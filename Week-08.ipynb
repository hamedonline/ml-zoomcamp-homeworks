{
 "cells": [
  {
   "cell_type": "markdown",
   "metadata": {},
   "source": [
    "# Machine Learning Zoomcamp Homeworks"
   ]
  },
  {
   "cell_type": "markdown",
   "metadata": {},
   "source": [
    "## Week 8\n",
    "\n",
    "### Dataset\n",
    "\n",
    "In this homework, we'll build a model for predicting if we have an image of a dog or a cat. For this,\n",
    "we will use the \"Dogs & Cats\" dataset that can be downloaded from [Kaggle](https://www.kaggle.com/c/dogs-vs-cats/data). \n",
    "\n",
    "You need to download the `train.zip` file.\n",
    "\n",
    "If you have troubles downloading from Kaggle, use [this link](https://github.com/alexeygrigorev/large-datasets/releases/download/dogs-cats/train.zip) instead:\n",
    "\n",
    "```bash\n",
    "wget https://github.com/alexeygrigorev/large-datasets/releases/download/dogs-cats/train.zip\n",
    "```\n",
    "\n",
    "In the lectures we saw how to use a pre-trained neural network. In the homework, we'll train a much smaller model from scratch. \n",
    "\n",
    "**Note:** You don't need a computer with a GPU for this homework. A laptop or any personal computer should be sufficient. \n",
    "\n",
    "\n",
    "### Data Preparation\n",
    "\n",
    "The dataset contains 12,500 images of cats and 12,500 images of dogs. \n",
    "\n",
    "Now we need to split this data into train and validation\n",
    "\n",
    "* Create a `train` and `validation` folders\n",
    "* In each folder, create `cats` and `dogs` folders\n",
    "* Move the first 10,000 images to the train folder (from 0 to 9999) for boths cats and dogs - and put them in respective folders\n",
    "* Move the remaining 2,500 images to the validation folder (from 10000 to 12499)\n",
    "\n",
    "You can do this manually or with Python (check `os` and `shutil` packages).\n",
    "\n",
    "\n",
    "### Model\n",
    "\n",
    "For this homework we will use Convolutional Neural Network (CNN. Like in the lectures, we'll use Keras.\n",
    "\n",
    "You need to develop the model with following structure:\n",
    "\n",
    "* The shape for input should be `(150, 150, 3)`\n",
    "* Next, create a covolutional layer ([`Conv2D`](https://keras.io/api/layers/convolution_layers/convolution2d/)):\n",
    "    * Use 32 filters\n",
    "    * Kernel size should be `(3, 3)` (that's the size of the filter)\n",
    "    * Use `'relu'` as activation \n",
    "* Reduce the size of the feature map with max pooling ([`MaxPooling2D`](https://keras.io/api/layers/pooling_layers/max_pooling2d/))\n",
    "    * Set the pooling size to `(2, 2)`\n",
    "* Turn the multi-dimensional result into vectors using a [`Flatten`](https://keras.io/api/layers/reshaping_layers/flatten/) layer\n",
    "* Next, add a `Dense` layer with 64 neurons and `'relu'` activation\n",
    "* Finally, create the `Dense` layer with 1 neuron - this will be the output\n",
    "    * The output layer should have an activation - use the appropriate activation for the binary classification case\n",
    "\n",
    "As optimizer use [`SGD`](https://keras.io/api/optimizers/sgd/) with the following parameters:\n",
    "\n",
    "* `SGD(lr=0.002, momentum=0.8)`\n",
    "\n",
    "\n",
    "For clarification about kernel size and max pooling, check [Week #11 Office Hours](https://www.youtube.com/watch?v=1WRgdBTUaAc)."
   ]
  },
  {
   "cell_type": "code",
   "execution_count": 1,
   "metadata": {},
   "outputs": [],
   "source": [
    "# let's start with essential imports\n",
    "import numpy as np\n",
    "import matplotlib.pyplot as plt\n",
    "from tensorflow import keras\n",
    "from tensorflow.keras.preprocessing.image import ImageDataGenerator\n",
    "\n",
    "%matplotlib inline\n",
    "\n",
    "\n",
    "# model variables according to the assignment requirements\n",
    "input_image_size  = (150, 150)\n",
    "input_image_depth = 3 # RGB image, 3 channels for each pixel\n",
    "input_image_shape = (input_image_size[0], input_image_size[1], input_image_depth)\n",
    "filters = 32\n",
    "kernel_size = (3, 3)\n",
    "pool_size = (2, 2)\n",
    "dense_size = 64\n",
    "output_size = 1 # binary classification (output is either 0 or 1, so 1 output node is enough)\n",
    "output_activation = 'sigmoid' # we use sigmoid activation function for binary classification\n",
    "learning_rate = 0.002\n",
    "momentum = 0.8\n",
    "\n",
    "\n",
    "# model definition in functional style\n",
    "\n",
    "# input layer definition\n",
    "input_layer = keras.Input(shape=input_image_shape)\n",
    "\n",
    "# convolutional layer with 32 filters, 3x3 kernel size (all defined in model variables) and ReLU activation\n",
    "conv_layer = keras.layers.Conv2D(filters, kernel_size, activation='relu')(input_layer)\n",
    "\n",
    "# max pooling layer with 2x2 pool size\n",
    "pool_layer = keras.layers.MaxPool2D(pool_size)(conv_layer)\n",
    "\n",
    "# flatten layer\n",
    "flatten_layer = keras.layers.Flatten()(pool_layer)\n",
    "\n",
    "# dense layer with 64 nodes and ReLU activation\n",
    "dense_layer = keras.layers.Dense(dense_size, activation='relu')(flatten_layer)\n",
    "\n",
    "# output layer with 1 node and sigmoid activation\n",
    "output_layer = keras.layers.Dense(output_size, activation=output_activation)(dense_layer)\n",
    "\n",
    "# create model\n",
    "model = keras.Model(inputs=input_layer, outputs=output_layer)\n",
    "\n",
    "\n",
    "# model compilation\n",
    "optimizer = keras.optimizers.SGD(learning_rate=learning_rate, momentum=momentum)\n",
    "loss = keras.losses.BinaryCrossentropy(from_logits=False)\n",
    "model.compile(optimizer=optimizer, loss=loss, metrics=['accuracy'])"
   ]
  },
  {
   "cell_type": "markdown",
   "metadata": {},
   "source": [
    "### Question #1\n",
    "Since we have a binary classification problem, what is the best loss function for us?<br>\n",
    "Note: since we specify an activation for the output layer, we don't need to set `from_logits=True`\n",
    "\n",
    "- mean squared error\n",
    "- categorical cross-entropy\n",
    "- binary cross-entropy"
   ]
  },
  {
   "cell_type": "markdown",
   "metadata": {},
   "source": [
    "answer to question #1:\n",
    "\n",
    "We have a binary distribution for target class (classes are either _\"cat\"_ or _\"dog\"_). A common loss function for categorical classifications is \"Cross Entropy\". __\"Binary Cross Entropy\"__ is the sub-type we can utilize for binary classification tasks, so the answer would be the third choice.<br>\n",
    "The formula for binary cross entropy loss is as follows:<br>\n",
    "$$\n",
    "Binary Cross Entropy = -{(y\\log(p) + (1 - y)\\log(1 - p))}\n",
    "$$\n",
    "\n",
    "where _p_ is the predicted value and _y_ is the true value."
   ]
  },
  {
   "cell_type": "markdown",
   "metadata": {},
   "source": [
    "### Question #2\n",
    "\n",
    "What's the total number of parameters of the model? You can use the `summary` method for that.\n",
    "- 7,215,873\n",
    "- 9,215,873\n",
    "- 11,215,873\n",
    "- 13,215,873"
   ]
  },
  {
   "cell_type": "code",
   "execution_count": 2,
   "metadata": {},
   "outputs": [
    {
     "name": "stdout",
     "output_type": "stream",
     "text": [
      "Model: \"model\"\n",
      "_________________________________________________________________\n",
      "Layer (type)                 Output Shape              Param #   \n",
      "=================================================================\n",
      "input_1 (InputLayer)         [(None, 150, 150, 3)]     0         \n",
      "_________________________________________________________________\n",
      "conv2d (Conv2D)              (None, 148, 148, 32)      896       \n",
      "_________________________________________________________________\n",
      "max_pooling2d (MaxPooling2D) (None, 74, 74, 32)        0         \n",
      "_________________________________________________________________\n",
      "flatten (Flatten)            (None, 175232)            0         \n",
      "_________________________________________________________________\n",
      "dense (Dense)                (None, 64)                11214912  \n",
      "_________________________________________________________________\n",
      "dense_1 (Dense)              (None, 1)                 65        \n",
      "=================================================================\n",
      "Total params: 11,215,873\n",
      "Trainable params: 11,215,873\n",
      "Non-trainable params: 0\n",
      "_________________________________________________________________\n"
     ]
    }
   ],
   "source": [
    "# answer to question #2:\n",
    "\n",
    "model.summary()"
   ]
  },
  {
   "cell_type": "markdown",
   "metadata": {},
   "source": [
    "As it is clear from model summary, total parameters value equals to __11,215,873__."
   ]
  },
  {
   "cell_type": "markdown",
   "metadata": {},
   "source": [
    "### Generators and Training\n",
    "\n",
    "For the next two questions, use the following data generator for both train and validation:\n",
    "\n",
    "```python\n",
    "ImageDataGenerator(rescale=1./255)\n",
    "```\n",
    "\n",
    "* We don't need to do any additional pre-processing for the images.\n",
    "* When reading the data from train/val directories, check the `class_mode` parameter. Which value should it be for a binary classification problem?\n",
    "* Use `batch_size=20`\n",
    "* Use `shuffle=True` for both training and validation\n",
    "\n",
    "For training use `.fit()` with the following params:\n",
    "\n",
    "```python\n",
    "model.fit(\n",
    "    train_generator,\n",
    "    steps_per_epoch=100,\n",
    "    epochs=10,\n",
    "    validation_data=validation_generator,\n",
    "    validation_steps=50\n",
    ")\n",
    "```\n",
    "Note `validation_steps=50` - this parameter says \"run only 50 steps on the validation data for evaluating the results\". \n",
    "This way we iterate a bit faster, but don't use the entire validation dataset.\n",
    "That's why it's important to shuffle the validation dataset as well. "
   ]
  },
  {
   "cell_type": "code",
   "execution_count": 3,
   "metadata": {},
   "outputs": [
    {
     "name": "stdout",
     "output_type": "stream",
     "text": [
      "Found 20000 images belonging to 2 classes.\n",
      "Found 5000 images belonging to 2 classes.\n",
      "Epoch 1/10\n",
      "100/100 [==============================] - 27s 207ms/step - loss: 0.7070 - accuracy: 0.5030 - val_loss: 0.6878 - val_accuracy: 0.5440\n",
      "Epoch 2/10\n",
      "100/100 [==============================] - 19s 188ms/step - loss: 0.6871 - accuracy: 0.5480 - val_loss: 0.6803 - val_accuracy: 0.5810\n",
      "Epoch 3/10\n",
      "100/100 [==============================] - 18s 178ms/step - loss: 0.6849 - accuracy: 0.5555 - val_loss: 0.6792 - val_accuracy: 0.5480\n",
      "Epoch 4/10\n",
      "100/100 [==============================] - 16s 165ms/step - loss: 0.6679 - accuracy: 0.5805 - val_loss: 0.6782 - val_accuracy: 0.5640\n",
      "Epoch 5/10\n",
      "100/100 [==============================] - 15s 150ms/step - loss: 0.6633 - accuracy: 0.5935 - val_loss: 0.6876 - val_accuracy: 0.5490\n",
      "Epoch 6/10\n",
      "100/100 [==============================] - 14s 143ms/step - loss: 0.6718 - accuracy: 0.5685 - val_loss: 0.6679 - val_accuracy: 0.5860\n",
      "Epoch 7/10\n",
      "100/100 [==============================] - 13s 133ms/step - loss: 0.6669 - accuracy: 0.6085 - val_loss: 0.6649 - val_accuracy: 0.5950\n",
      "Epoch 8/10\n",
      "100/100 [==============================] - 13s 127ms/step - loss: 0.6605 - accuracy: 0.6045 - val_loss: 0.6594 - val_accuracy: 0.5880\n",
      "Epoch 9/10\n",
      "100/100 [==============================] - 12s 119ms/step - loss: 0.6414 - accuracy: 0.6205 - val_loss: 0.6568 - val_accuracy: 0.6000\n",
      "Epoch 10/10\n",
      "100/100 [==============================] - 12s 119ms/step - loss: 0.6483 - accuracy: 0.6225 - val_loss: 0.6371 - val_accuracy: 0.6430\n"
     ]
    }
   ],
   "source": [
    "batch_size = 20\n",
    "\n",
    "# train & validation data paths on your local machine\n",
    "PATH_TRAIN = 'D:/ML/Datasets/Dogs & Cats/train'\n",
    "PATH_VALIDATION = 'D:/ML/Datasets/Dogs & Cats/validation'\n",
    "\n",
    "# define train and validation data generators\n",
    "train_gen = ImageDataGenerator(rescale=1./255)\n",
    "valid_gen = ImageDataGenerator(rescale=1./255)\n",
    "\n",
    "# define train and validation datasets\n",
    "train_ds = train_gen.flow_from_directory(\n",
    "    directory=PATH_TRAIN,\n",
    "    target_size=input_image_size,\n",
    "    batch_size=batch_size,\n",
    "    class_mode='binary',\n",
    "    shuffle=True)\n",
    "\n",
    "valid_ds = valid_gen.flow_from_directory(\n",
    "    directory=PATH_VALIDATION,\n",
    "    target_size=input_image_size,\n",
    "    batch_size=batch_size,\n",
    "    class_mode='binary',\n",
    "    shuffle=True)\n",
    "\n",
    "# train the model\n",
    "train_history = model.fit(\n",
    "    train_ds,\n",
    "    steps_per_epoch=100,\n",
    "    epochs=10,\n",
    "    validation_data=valid_ds,\n",
    "    validation_steps=50\n",
    ")"
   ]
  },
  {
   "cell_type": "markdown",
   "metadata": {},
   "source": [
    "### Question #3\n",
    "\n",
    "What is the median of training accuracy for this model?\n",
    "- 0.36\n",
    "- 0.56\n",
    "- 0.76\n",
    "- 0.96"
   ]
  },
  {
   "cell_type": "code",
   "execution_count": 4,
   "metadata": {},
   "outputs": [
    {
     "data": {
      "text/plain": [
       "<matplotlib.legend.Legend at 0x1e3e8497910>"
      ]
     },
     "execution_count": 4,
     "metadata": {},
     "output_type": "execute_result"
    },
    {
     "data": {
      "image/png": "[encoded data removed]",
      "text/plain": [
       "<Figure size 432x288 with 1 Axes>"
      ]
     },
     "metadata": {
      "needs_background": "light"
     },
     "output_type": "display_data"
    }
   ],
   "source": [
    "# answer to question #3\n",
    "\n",
    "# let's first plot the training and validation accuracy\n",
    "plt.plot(train_history.history['accuracy'], label='train acc')\n",
    "plt.plot(train_history.history['val_accuracy'], label='valid acc')\n",
    "plt.xticks(np.arange(10))\n",
    "plt.legend()"
   ]
  },
  {
   "cell_type": "code",
   "execution_count": 5,
   "metadata": {},
   "outputs": [
    {
     "name": "stdout",
     "output_type": "stream",
     "text": [
      "Median of training accuracy: 0.59\n"
     ]
    }
   ],
   "source": [
    "# answer to question #3 (continued)\n",
    "\n",
    "# median of training accuracy\n",
    "train_acc_median = np.median(train_history.history['accuracy'])\n",
    "print('Median of training accuracy:', round(train_acc_median, 2))"
   ]
  },
  {
   "cell_type": "markdown",
   "metadata": {},
   "source": [
    "The closest value to the above number among the choices would be __0.56__."
   ]
  },
  {
   "cell_type": "markdown",
   "metadata": {},
   "source": [
    "### Question #4\n",
    "\n",
    "What is the standard deviation of training loss for this model?\n",
    "- 0.001\n",
    "- 0.01\n",
    "- 0.1\n",
    "- 1"
   ]
  },
  {
   "cell_type": "code",
   "execution_count": 6,
   "metadata": {},
   "outputs": [
    {
     "data": {
      "text/plain": [
       "<matplotlib.legend.Legend at 0x1e3e8e8a370>"
      ]
     },
     "execution_count": 6,
     "metadata": {},
     "output_type": "execute_result"
    },
    {
     "data": {
      "image/png": "[encoded data removed]",
      "text/plain": [
       "<Figure size 432x288 with 1 Axes>"
      ]
     },
     "metadata": {
      "needs_background": "light"
     },
     "output_type": "display_data"
    }
   ],
   "source": [
    "# answer to question #4\n",
    "\n",
    "# again, let's plot the training and validation loss\n",
    "plt.plot(train_history.history['loss'], label='train loss')\n",
    "plt.plot(train_history.history['val_loss'], label='valid loss')\n",
    "plt.xticks(np.arange(10))\n",
    "plt.legend()"
   ]
  },
  {
   "cell_type": "code",
   "execution_count": 7,
   "metadata": {},
   "outputs": [
    {
     "name": "stdout",
     "output_type": "stream",
     "text": [
      "Standard deviation of training loss: 0.018\n"
     ]
    }
   ],
   "source": [
    "# answer to question #4 (continued)\n",
    "\n",
    "# standard deviation of training loss\n",
    "train_loss_std = np.std(train_history.history['loss'])\n",
    "print('Standard deviation of training loss:', round(train_loss_std, 3))"
   ]
  },
  {
   "cell_type": "markdown",
   "metadata": {},
   "source": [
    "That gives us __0.01__ as the closest answer."
   ]
  },
  {
   "cell_type": "markdown",
   "metadata": {},
   "source": [
    "### Data Augmentation\n",
    "\n",
    "For the next two questions, we'll generate more data using data augmentations. \n",
    "\n",
    "Add the following augmentations to your training data generator:\n",
    "\n",
    "* `rotation_range=40,`\n",
    "* `width_shift_range=0.2,`\n",
    "* `height_shift_range=0.2,`\n",
    "* `shear_range=0.2,`\n",
    "* `zoom_range=0.2,`\n",
    "* `horizontal_flip=True,`\n",
    "* `fill_mode='nearest'`"
   ]
  },
  {
   "cell_type": "code",
   "execution_count": 8,
   "metadata": {},
   "outputs": [
    {
     "name": "stdout",
     "output_type": "stream",
     "text": [
      "Found 20000 images belonging to 2 classes.\n"
     ]
    }
   ],
   "source": [
    "# create new data generator for training data with required augmentations\n",
    "train_gen_augmentation = ImageDataGenerator(\n",
    "    rescale=1./255,\n",
    "    rotation_range=40,\n",
    "    width_shift_range=0.2,\n",
    "    height_shift_range=0.2,\n",
    "    shear_range=0.2,\n",
    "    zoom_range=0.2,\n",
    "    horizontal_flip=True,\n",
    "    fill_mode='nearest')\n",
    "\n",
    "# re-initialize train dataset with new train data generator\n",
    "train_ds_augmentation = train_gen_augmentation.flow_from_directory(\n",
    "    directory=PATH_TRAIN,\n",
    "    target_size=input_image_size,\n",
    "    batch_size=batch_size,\n",
    "    class_mode='binary',\n",
    "    shuffle=True)"
   ]
  },
  {
   "cell_type": "markdown",
   "metadata": {},
   "source": [
    "### Question #5\n",
    "\n",
    "Let's train our model for 10 more epochs using the same code as previously.\n",
    "Make sure you don't re-create the model - we want to continue training the model\n",
    "we already started training.\n",
    "\n",
    "What is the mean of validation loss for the model trained with augmentations?\n",
    "- 0.27\n",
    "- 0.47\n",
    "- 0.67\n",
    "- 0.97"
   ]
  },
  {
   "cell_type": "code",
   "execution_count": 9,
   "metadata": {},
   "outputs": [
    {
     "name": "stdout",
     "output_type": "stream",
     "text": [
      "Epoch 1/10\n",
      "100/100 [==============================] - 18s 184ms/step - loss: 0.6678 - accuracy: 0.5855 - val_loss: 0.6387 - val_accuracy: 0.6170\n",
      "Epoch 2/10\n",
      "100/100 [==============================] - 19s 186ms/step - loss: 0.6622 - accuracy: 0.5775 - val_loss: 0.6301 - val_accuracy: 0.6390\n",
      "Epoch 3/10\n",
      "100/100 [==============================] - 18s 179ms/step - loss: 0.6624 - accuracy: 0.5815 - val_loss: 0.6279 - val_accuracy: 0.6650\n",
      "Epoch 4/10\n",
      "100/100 [==============================] - 19s 194ms/step - loss: 0.6557 - accuracy: 0.6010 - val_loss: 0.6375 - val_accuracy: 0.6250\n",
      "Epoch 5/10\n",
      "100/100 [==============================] - 19s 194ms/step - loss: 0.6679 - accuracy: 0.5765 - val_loss: 0.6474 - val_accuracy: 0.6070\n",
      "Epoch 6/10\n",
      "100/100 [==============================] - 21s 207ms/step - loss: 0.6592 - accuracy: 0.5860 - val_loss: 0.6381 - val_accuracy: 0.6300\n",
      "Epoch 7/10\n",
      "100/100 [==============================] - 19s 188ms/step - loss: 0.6455 - accuracy: 0.6370 - val_loss: 0.6073 - val_accuracy: 0.6740\n",
      "Epoch 8/10\n",
      "100/100 [==============================] - 18s 179ms/step - loss: 0.6610 - accuracy: 0.5885 - val_loss: 0.6264 - val_accuracy: 0.6570\n",
      "Epoch 9/10\n",
      "100/100 [==============================] - 18s 177ms/step - loss: 0.6522 - accuracy: 0.6055 - val_loss: 0.6231 - val_accuracy: 0.6540\n",
      "Epoch 10/10\n",
      "100/100 [==============================] - 18s 178ms/step - loss: 0.6527 - accuracy: 0.6065 - val_loss: 0.6319 - val_accuracy: 0.6340\n"
     ]
    }
   ],
   "source": [
    "# answer to question #5\n",
    "\n",
    "# train the model again with augmented data\n",
    "train_history_augmentation = model.fit(\n",
    "    train_ds_augmentation,\n",
    "    steps_per_epoch=100,\n",
    "    epochs=10,\n",
    "    validation_data=valid_ds,\n",
    "    validation_steps=50\n",
    ")"
   ]
  },
  {
   "cell_type": "code",
   "execution_count": 10,
   "metadata": {},
   "outputs": [
    {
     "data": {
      "text/plain": [
       "<matplotlib.legend.Legend at 0x1e3e8f42910>"
      ]
     },
     "execution_count": 10,
     "metadata": {},
     "output_type": "execute_result"
    },
    {
     "data": {
      "image/png": "[encoded data removed]",
      "text/plain": [
       "<Figure size 432x288 with 1 Axes>"
      ]
     },
     "metadata": {
      "needs_background": "light"
     },
     "output_type": "display_data"
    }
   ],
   "source": [
    "# answer to question #5 (continued)\n",
    "\n",
    "# let's plot the training and validation loss for new training\n",
    "plt.plot(train_history_augmentation.history['loss'], label='train loss')\n",
    "plt.plot(train_history_augmentation.history['val_loss'], label='valid loss')\n",
    "plt.xticks(np.arange(10))\n",
    "plt.legend()"
   ]
  },
  {
   "cell_type": "code",
   "execution_count": 11,
   "metadata": {},
   "outputs": [
    {
     "name": "stdout",
     "output_type": "stream",
     "text": [
      "Mean of validation loss: 0.63\n"
     ]
    }
   ],
   "source": [
    "# answer to question #5 (continued)\n",
    "\n",
    "# mean of validation loss\n",
    "valid_loss_mean = np.mean(train_history_augmentation.history['val_loss'])\n",
    "print('Mean of validation loss:', round(valid_loss_mean, 2))"
   ]
  },
  {
   "cell_type": "markdown",
   "metadata": {},
   "source": [
    "The closest value to the above number among the choices would be __0.67__."
   ]
  },
  {
   "cell_type": "markdown",
   "metadata": {},
   "source": [
    "### Question #6\n",
    "\n",
    "What's the average of validation accuracy for the last 5 epochs (from 6 to 10)\n",
    "for the model trained with augmentations?\n",
    "- 0.25\n",
    "- 0.45\n",
    "- 0.65\n",
    "- 0.85"
   ]
  },
  {
   "cell_type": "code",
   "execution_count": 12,
   "metadata": {},
   "outputs": [
    {
     "data": {
      "text/plain": [
       "<matplotlib.legend.Legend at 0x1e3f8a4fd00>"
      ]
     },
     "execution_count": 12,
     "metadata": {},
     "output_type": "execute_result"
    },
    {
     "data": {
      "image/png": "[encoded data removed]",
      "text/plain": [
       "<Figure size 432x288 with 1 Axes>"
      ]
     },
     "metadata": {
      "needs_background": "light"
     },
     "output_type": "display_data"
    }
   ],
   "source": [
    "# answer to question #6\n",
    "\n",
    "# let's plot the accuracy for training and validation of the new model first\n",
    "plt.plot(train_history_augmentation.history['accuracy'], label='train accuracy')\n",
    "plt.plot(train_history_augmentation.history['val_accuracy'], label='valid accuracy')\n",
    "plt.xticks(np.arange(10))\n",
    "plt.legend()"
   ]
  },
  {
   "cell_type": "code",
   "execution_count": 13,
   "metadata": {},
   "outputs": [
    {
     "name": "stdout",
     "output_type": "stream",
     "text": [
      "Average of validation accuracy for the last 5 epochs of the model trained with augmentations: 0.65\n"
     ]
    }
   ],
   "source": [
    "# answer to question #6 (continued)\n",
    "\n",
    "# average of validation accuracy for the last 5 epochs of the model trained with augmentations\n",
    "valid_acc_avg_last5 = np.average((train_history_augmentation.history['val_accuracy'])[5:10])\n",
    "print('Average of validation accuracy for the last 5 epochs of the model trained with augmentations:', round(valid_acc_avg_last5, 2))"
   ]
  },
  {
   "cell_type": "markdown",
   "metadata": {},
   "source": [
    "Therefore, the answer would be __0.65__ among the choices."
   ]
  }
 ],
 "metadata": {
  "interpreter": {
   "hash": "0f5ac38789241b4bb81b8932c8570b25ca6d45fbb16cf755cff1dd5201e7e529"
  },
  "kernelspec": {
   "display_name": "Python 3.7.10 64-bit ('hw05-KBu8Ds8V': pipenv)",
   "name": "python3"
  },
  "language_info": {
   "codemirror_mode": {
    "name": "ipython",
    "version": 3
   },
   "file_extension": ".py",
   "mimetype": "text/x-python",
   "name": "python",
   "nbconvert_exporter": "python",
   "pygments_lexer": "ipython3",
   "version": "3.9.7"
  },
  "orig_nbformat": 4
 },
 "nbformat": 4,
 "nbformat_minor": 2
}

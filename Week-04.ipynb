{
 "cells": [
  {
   "cell_type": "markdown",
   "metadata": {},
   "source": [
    "# Machine Learning Zoomcamp Homeworks"
   ]
  },
  {
   "cell_type": "markdown",
   "metadata": {},
   "source": [
    "## Week 4\n",
    "\n",
    "Use this notebook as a starter"
   ]
  },
  {
   "cell_type": "code",
   "execution_count": 1,
   "metadata": {},
   "outputs": [],
   "source": [
    "import pandas as pd\n",
    "import numpy as np\n",
    "\n",
    "import matplotlib.pyplot as plt\n",
    "\n",
    "%matplotlib inline"
   ]
  },
  {
   "cell_type": "markdown",
   "metadata": {},
   "source": [
    "## Preparation \n",
    "\n",
    "We'll talk about this dataset in more details in week 6. But for now, use the following code to get started"
   ]
  },
  {
   "cell_type": "code",
   "execution_count": 2,
   "metadata": {},
   "outputs": [],
   "source": [
    "df = pd.read_csv('data\\CreditScoring.csv')\n",
    "df.columns = df.columns.str.lower()"
   ]
  },
  {
   "cell_type": "markdown",
   "metadata": {},
   "source": [
    "Some of the features are encoded as numbers. Use the following code to de-code them:"
   ]
  },
  {
   "cell_type": "code",
   "execution_count": 3,
   "metadata": {},
   "outputs": [],
   "source": [
    "status_values = {\n",
    "    1: 'ok',\n",
    "    2: 'default',\n",
    "    0: 'unk'\n",
    "}\n",
    "\n",
    "df.status = df.status.map(status_values)\n",
    "\n",
    "\n",
    "home_values = {\n",
    "    1: 'rent',\n",
    "    2: 'owner',\n",
    "    3: 'private',\n",
    "    4: 'ignore',\n",
    "    5: 'parents',\n",
    "    6: 'other',\n",
    "    0: 'unk'\n",
    "}\n",
    "\n",
    "df.home = df.home.map(home_values)\n",
    "\n",
    "marital_values = {\n",
    "    1: 'single',\n",
    "    2: 'married',\n",
    "    3: 'widow',\n",
    "    4: 'separated',\n",
    "    5: 'divorced',\n",
    "    0: 'unk'\n",
    "}\n",
    "\n",
    "df.marital = df.marital.map(marital_values)\n",
    "\n",
    "records_values = {\n",
    "    1: 'no',\n",
    "    2: 'yes',\n",
    "    0: 'unk'\n",
    "}\n",
    "\n",
    "df.records = df.records.map(records_values)\n",
    "\n",
    "job_values = {\n",
    "    1: 'fixed',\n",
    "    2: 'partime',\n",
    "    3: 'freelance',\n",
    "    4: 'others',\n",
    "    0: 'unk'\n",
    "}\n",
    "\n",
    "df.job = df.job.map(job_values)"
   ]
  },
  {
   "cell_type": "markdown",
   "metadata": {},
   "source": [
    "Prepare the numerical variables:"
   ]
  },
  {
   "cell_type": "code",
   "execution_count": 4,
   "metadata": {},
   "outputs": [],
   "source": [
    "for c in ['income', 'assets', 'debt']:\n",
    "    df[c] = df[c].replace(to_replace=99999999, value=0)"
   ]
  },
  {
   "cell_type": "markdown",
   "metadata": {},
   "source": [
    "Remove clients with unknown default status"
   ]
  },
  {
   "cell_type": "code",
   "execution_count": 5,
   "metadata": {},
   "outputs": [],
   "source": [
    "df = df[df.status != 'unk'].reset_index(drop=True)"
   ]
  },
  {
   "cell_type": "markdown",
   "metadata": {},
   "source": [
    "Create the target variable"
   ]
  },
  {
   "cell_type": "code",
   "execution_count": 6,
   "metadata": {},
   "outputs": [],
   "source": [
    "df['default'] = (df.status == 'default').astype(int)\n",
    "del df['status']"
   ]
  },
  {
   "cell_type": "markdown",
   "metadata": {},
   "source": [
    "## Your code"
   ]
  },
  {
   "cell_type": "markdown",
   "metadata": {},
   "source": [
    "What are the categorical variables? What are the numerical?"
   ]
  },
  {
   "cell_type": "code",
   "execution_count": 7,
   "metadata": {},
   "outputs": [
    {
     "name": "stdout",
     "output_type": "stream",
     "text": [
      "Categorical Columns:\n",
      " ['home', 'marital', 'records', 'job']\n",
      "Numerical Columns:\n",
      " ['seniority', 'time', 'age', 'expenses', 'income', 'assets', 'debt', 'amount', 'price', 'default']\n"
     ]
    }
   ],
   "source": [
    "columns_categorical = df.select_dtypes(include=['flexible', 'object', 'bool']).columns.to_list()\n",
    "columns_numerical   = df.select_dtypes(include=['number']).columns.to_list()\n",
    "\n",
    "print(\"Categorical Columns:\\n\", columns_categorical)\n",
    "print(\"Numerical Columns:\\n\", columns_numerical)"
   ]
  },
  {
   "cell_type": "markdown",
   "metadata": {},
   "source": [
    "Split the data into 3 parts: train/validation/test with 60%/20%/20% distribution. Use `train_test_split` funciton for that with `random_state=1`"
   ]
  },
  {
   "cell_type": "code",
   "execution_count": 8,
   "metadata": {},
   "outputs": [
    {
     "name": "stdout",
     "output_type": "stream",
     "text": [
      "4454 2672 891 891\n"
     ]
    }
   ],
   "source": [
    "from sklearn.model_selection import train_test_split\n",
    "\n",
    "random_seed = 1\n",
    "df_train_full, df_test = train_test_split(df, test_size=0.2, random_state=random_seed)\n",
    "df_train, df_valid     = train_test_split(df_train_full, test_size=0.25, random_state=random_seed)\n",
    "\n",
    "print(len(df), len(df_train), len(df_valid), len(df_test))"
   ]
  },
  {
   "cell_type": "markdown",
   "metadata": {},
   "source": [
    "## Question 1\n",
    "\n",
    "ROC AUC could also be used to evaluate feature importance of numerical variables. \n",
    "\n",
    "Let's do that\n",
    "\n",
    "* For each numerical variable, use it as score and compute AUC with the \"default\" variable\n",
    "* Use the training dataset for that\n",
    "\n",
    "\n",
    "If your AUC is < 0.5, invert this variable by putting \"-\" in front\n",
    "\n",
    "(e.g. `-df_train['expenses']`)\n",
    "\n",
    "AUC can go below 0.5 if the variable is negatively correlated with the target varialble. You can change the direction of the correlation by negating this variable - then negative correlation becomes positive."
   ]
  },
  {
   "cell_type": "code",
   "execution_count": 9,
   "metadata": {},
   "outputs": [
    {
     "data": {
      "image/png": "[encoded data removed]",
      "text/plain": [
       "<Figure size 576x576 with 1 Axes>"
      ]
     },
     "metadata": {
      "needs_background": "light"
     },
     "output_type": "display_data"
    }
   ],
   "source": [
    "from sklearn.metrics import auc\n",
    "\n",
    "\n",
    "def calculate_column_importance(df, column_name, target_column_name, invert=False):\n",
    "    actual_positive = (df[target_column_name] == 1)\n",
    "    actual_negative = (df[target_column_name] == 0)\n",
    "\n",
    "    column_tpr, column_fpr = [], []\n",
    "    column_values = -df[column_name] if invert else df[column_name]\n",
    "    for threshold in np.linspace(column_values.min(), column_values.max(), 100):\n",
    "        predict_positive = (column_values >= threshold)\n",
    "        predict_negative = (column_values < threshold)\n",
    "\n",
    "        column_tp = (predict_positive & actual_positive).sum()\n",
    "        column_tn = (predict_negative & actual_negative).sum()\n",
    "        column_fp = (predict_positive & actual_negative).sum()\n",
    "        column_fn = (predict_negative & actual_positive).sum()\n",
    "\n",
    "        tpr = column_tp / (column_tp + column_fn)\n",
    "        fpr = column_fp / (column_fp + column_tn)\n",
    "\n",
    "        column_tpr.append(tpr)\n",
    "        column_fpr.append(fpr)\n",
    "\n",
    "    column_auc = auc(column_fpr, column_tpr)\n",
    "    if round(column_auc, 2) < 0.5:\n",
    "        return calculate_column_importance(df, column_name, target_column_name, invert=True)\n",
    "    return column_auc, column_tpr, column_fpr\n",
    "\n",
    "\n",
    "plt.figure(figsize=(8, 8))\n",
    "\n",
    "target_column = 'default'\n",
    "score_columns = list(set(columns_numerical) - set([target_column]))\n",
    "\n",
    "auc_scores = {}\n",
    "for column in score_columns:\n",
    "    column_auc, column_tpr, column_fpr = calculate_column_importance(df_train, column, target_column)\n",
    "    plt.plot(column_fpr, column_tpr, label=column+', auc='+str(round(column_auc, 4)))\n",
    "    auc_scores[column] = {'auc_score': column_auc, 'tpr': column_tpr, 'fpr': column_fpr}\n",
    "\n",
    "plt.title('ROC AUC')\n",
    "plt.xlabel('False Positive Rate')\n",
    "plt.ylabel('True Positive Rate')\n",
    "plt.legend(loc='lower right')\n",
    "plt.show()\n"
   ]
  },
  {
   "cell_type": "markdown",
   "metadata": {},
   "source": [
    "Which numerical variable (among the following 4) has the highest AUC?\n",
    "\n",
    "- seniority\n",
    "- time\n",
    "- income\n",
    "- debt"
   ]
  },
  {
   "cell_type": "code",
   "execution_count": 10,
   "metadata": {},
   "outputs": [
    {
     "name": "stdout",
     "output_type": "stream",
     "text": [
      "{'seniority': 0.7017699731473966, 'income': 0.6768705398034989, 'amount': 0.5912765609164017, 'age': 0.5732919341188272, 'assets': 0.5626323909961933, 'time': 0.5608662489595051, 'price': 0.5043995082246981, 'expenses': 0.4992222845261439, 'debt': 0.4986528421617216}\n"
     ]
    }
   ],
   "source": [
    "auc_scores_only = {column: values['auc_score'] for column, values in auc_scores.items()}\n",
    "print({k: v for k, v in sorted(auc_scores_only.items(), key=lambda item: item[1], reverse=True)})"
   ]
  },
  {
   "cell_type": "markdown",
   "metadata": {},
   "source": [
    "The sorted values for AUC scores indicates that 'seniority' column has the highest AUC."
   ]
  },
  {
   "cell_type": "markdown",
   "metadata": {},
   "source": [
    "## Training the model\n",
    "\n",
    "From now on, use these columns only:\n",
    "\n",
    "```\n",
    "['seniority', 'income', 'assets', 'records', 'job', 'home']\n",
    "```\n",
    "\n",
    "Apply one-hot-encoding using `DictVectorizer` and train the logistic regression with these parameters:\n",
    "\n",
    "```\n",
    "LogisticRegression(solver='liblinear', C=1.0, max_iter=1000)\n",
    "```"
   ]
  },
  {
   "cell_type": "code",
   "execution_count": 11,
   "metadata": {},
   "outputs": [
    {
     "data": {
      "text/plain": [
       "LogisticRegression(max_iter=1000, solver='liblinear')"
      ]
     },
     "execution_count": 11,
     "metadata": {},
     "output_type": "execute_result"
    }
   ],
   "source": [
    "from sklearn.feature_extraction import DictVectorizer\n",
    "from sklearn.linear_model import LogisticRegression\n",
    "\n",
    "\n",
    "desired_columns = ['seniority', 'income', 'assets', 'records', 'job', 'home']\n",
    "\n",
    "y_train = df_train[target_column].to_numpy()\n",
    "y_valid = df_valid[target_column].to_numpy()\n",
    "y_test  = df_test[target_column].to_numpy()\n",
    "\n",
    "del df_train[target_column]\n",
    "del df_valid[target_column]\n",
    "del df_test[target_column]\n",
    "\n",
    "\n",
    "train_dict = df_train[desired_columns].to_dict(orient='records')\n",
    "dv = DictVectorizer(sparse=False)\n",
    "dv.fit(train_dict)\n",
    "\n",
    "X_train = dv.transform(train_dict)\n",
    "model = LogisticRegression(solver='liblinear', C=1.0, max_iter=1000)\n",
    "model.fit(X_train, y_train)"
   ]
  },
  {
   "cell_type": "markdown",
   "metadata": {},
   "source": [
    "## Question 2\n",
    "\n",
    "What's the AUC of this model on the validation dataset? (round to 3 digits)\n",
    "\n",
    "- 0.512\n",
    "- 0.612\n",
    "- 0.712\n",
    "- 0.812"
   ]
  },
  {
   "cell_type": "code",
   "execution_count": 12,
   "metadata": {},
   "outputs": [
    {
     "name": "stdout",
     "output_type": "stream",
     "text": [
      "<<Accuracy Score>>\n",
      " > Actual: 0.7800224466891134\n",
      " > Rounded: 0.78\n",
      "\n",
      "<<AUC Score>>\n",
      " > Actual: 0.8120879813449298\n",
      " > Rounded: 0.812\n",
      "\n"
     ]
    }
   ],
   "source": [
    "from sklearn.metrics import roc_auc_score\n",
    "\n",
    "\n",
    "val_dict = df_valid[desired_columns].to_dict(orient='records')\n",
    "X_valid = dv.transform(val_dict)\n",
    "\n",
    "y_pred = model.predict_proba(X_valid)[:, 1]\n",
    "target_pred = y_pred > 0.5\n",
    "\n",
    "pred_score = (y_valid == target_pred).mean()\n",
    "print('<<Accuracy Score>>\\n > Actual: {}\\n > Rounded: {}\\n'.format(pred_score, round(pred_score, 2)))\n",
    "\n",
    "auc_score = roc_auc_score(y_valid, y_pred)\n",
    "print('<<AUC Score>>\\n > Actual: {}\\n > Rounded: {}\\n'.format(auc_score, round(auc_score, 3)))"
   ]
  },
  {
   "cell_type": "markdown",
   "metadata": {},
   "source": [
    "## Question 3\n",
    "\n",
    "Now let's compute precision and recall for our model.\n",
    "\n",
    "* Evaluate the model on all thresholds from 0.0 to 1.0 with step 0.01\n",
    "* For each threshold, compute precision and recall\n",
    "* Plot them"
   ]
  },
  {
   "cell_type": "code",
   "execution_count": 13,
   "metadata": {},
   "outputs": [
    {
     "name": "stderr",
     "output_type": "stream",
     "text": [
      "C:\\Anaconda3\\lib\\site-packages\\ipykernel_launcher.py:20: RuntimeWarning: invalid value encountered in long_scalars\n"
     ]
    },
    {
     "data": {
      "image/png": "[encoded data removed]",
      "text/plain": [
       "<Figure size 576x576 with 1 Axes>"
      ]
     },
     "metadata": {
      "needs_background": "light"
     },
     "output_type": "display_data"
    }
   ],
   "source": [
    "def create_evaluation_metrics(y_valid, y_pred, thresholds):\n",
    "    metrics = []\n",
    "\n",
    "    for t in thresholds:\n",
    "        actual_positive  = (y_valid == 1)\n",
    "        actual_negative  = (y_valid == 0)\n",
    "        predict_positive = (y_pred  >= t)\n",
    "        predict_negative = (y_pred  <  t)\n",
    "\n",
    "        tp = (predict_positive & actual_positive).sum()\n",
    "        tn = (predict_negative & actual_negative).sum()\n",
    "        fp = (predict_positive & actual_negative).sum()\n",
    "        fn = (predict_negative & actual_positive).sum()\n",
    "\n",
    "        tpr = tp / (tp + fn)\n",
    "        fpr = fp / (fp + tn)\n",
    "\n",
    "        accuracy = (tp + tn) / (tp + tn + fp + fn)\n",
    "        recall = tpr  # recall = true positive rate = sensitivity\n",
    "        precision = tp / (tp + fp)\n",
    "        specificity = tn / (tn + fp)\n",
    "        f1 = (2 * precision * recall) / (precision + recall)\n",
    "\n",
    "        metrics.append((t, tp, tn, fp, fn, tpr, fpr, accuracy, recall, precision, specificity, f1))\n",
    "\n",
    "    metric_columns = ['threshold', 'tp', 'tn', 'fp', 'fn', 'tpr', 'fpr', 'accuracy', 'recall', 'precision', 'specificity', 'f1']\n",
    "    metric_scores  = pd.DataFrame(data=metrics, columns=metric_columns)\n",
    "\n",
    "    return metric_scores\n",
    "\n",
    "\n",
    "thresholds = np.arange(0, 1.01, 0.01)\n",
    "metric_scores = create_evaluation_metrics(y_valid, y_pred, thresholds)\n",
    "\n",
    "\n",
    "plt.figure(figsize=(8, 8))\n",
    "plt.plot(metric_scores['threshold'], metric_scores['recall'], label='recall')\n",
    "plt.plot(metric_scores['threshold'], metric_scores['precision'], label='precision')\n",
    "plt.xlabel('threshold')\n",
    "plt.title('Precision & Recall Plot')\n",
    "plt.legend(loc='lower right')\n",
    "plt.show()"
   ]
  },
  {
   "cell_type": "markdown",
   "metadata": {},
   "source": [
    "At which threshold precision and recall curves intersect?\n",
    "\n",
    "* 0.2\n",
    "* 0.4\n",
    "* 0.6\n",
    "* 0.8"
   ]
  },
  {
   "cell_type": "code",
   "execution_count": 14,
   "metadata": {},
   "outputs": [
    {
     "data": {
      "text/plain": [
       "0.4"
      ]
     },
     "execution_count": 14,
     "metadata": {},
     "output_type": "execute_result"
    }
   ],
   "source": [
    "intersection_index = (metric_scores['precision'] - metric_scores['recall']).abs().argmin()\n",
    "metric_scores.iloc[intersection_index]['threshold']"
   ]
  },
  {
   "cell_type": "markdown",
   "metadata": {},
   "source": [
    "## Question 4\n",
    "\n",
    "Precision and recall are conflicting - when one grows, the other goes down. That's why they are often combined into the F1 score - a metrics that takes into account both\n",
    "\n",
    "This is the formula for computing F1:\n",
    "\n",
    "$$F_1 = 2 \\cdot \\cfrac{P \\cdot R}{P + R}$$\n",
    "\n",
    "Where $P$ is precision and $R$ is recall.\n",
    "\n",
    "Let's compute F1 for all thresholds from 0.0 to 1.0 with increment 0.01"
   ]
  },
  {
   "cell_type": "code",
   "execution_count": 15,
   "metadata": {},
   "outputs": [
    {
     "data": {
      "text/plain": [
       "0      0.432718\n",
       "1      0.436557\n",
       "2      0.442430\n",
       "3      0.447734\n",
       "4      0.460514\n",
       "         ...   \n",
       "96          NaN\n",
       "97          NaN\n",
       "98          NaN\n",
       "99          NaN\n",
       "100         NaN\n",
       "Name: f1, Length: 101, dtype: float64"
      ]
     },
     "execution_count": 15,
     "metadata": {},
     "output_type": "execute_result"
    }
   ],
   "source": [
    "# already computed in metrics\n",
    "\n",
    "metric_scores['f1']"
   ]
  },
  {
   "cell_type": "markdown",
   "metadata": {},
   "source": [
    "At which threshold F1 is maximal?\n",
    "\n",
    "- 0.1\n",
    "- 0.3\n",
    "- 0.5\n",
    "- 0.7"
   ]
  },
  {
   "cell_type": "code",
   "execution_count": 16,
   "metadata": {},
   "outputs": [
    {
     "data": {
      "text/plain": [
       "0.3"
      ]
     },
     "execution_count": 16,
     "metadata": {},
     "output_type": "execute_result"
    }
   ],
   "source": [
    "max_f1_index = (metric_scores['f1']).argmax()\n",
    "metric_scores.iloc[max_f1_index]['threshold']"
   ]
  },
  {
   "cell_type": "markdown",
   "metadata": {},
   "source": [
    "## Question 5\n",
    "\n",
    "\n",
    "Use the `KFold` class from Scikit-Learn to evaluate our model on 5 different folds:\n",
    "\n",
    "```\n",
    "KFold(n_splits=5, shuffle=True, random_state=1)\n",
    "```\n",
    "\n",
    "* Iterate over different folds of `df_full_train`\n",
    "* Split the data into train and validation\n",
    "* Train the model on train with these parameters: `LogisticRegression(solver='liblinear', C=1.0, max_iter=1000)`\n",
    "* Use AUC to evaluate the model on validation\n"
   ]
  },
  {
   "cell_type": "code",
   "execution_count": 17,
   "metadata": {},
   "outputs": [],
   "source": [
    "from sklearn.model_selection import KFold\n",
    "\n",
    "\n",
    "num_folds = 5\n",
    "kfold = KFold(n_splits=num_folds, shuffle=True, random_state=1)\n",
    "\n",
    "target_column = 'default'\n",
    "# train_columns = list(set(columns_numerical+columns_categorical) - set([target_column]))\n",
    "fold_scores = {}\n",
    "for fold_id, (train_idx, valid_idx) in enumerate(kfold.split(df_train_full)):\n",
    "    df_train = df_train_full.iloc[train_idx]\n",
    "    df_valid = df_train_full.iloc[valid_idx]\n",
    "\n",
    "    y_train = df_train[target_column].to_numpy()\n",
    "    y_valid = df_valid[target_column].to_numpy()\n",
    "\n",
    "    train_dict = df_train[desired_columns].to_dict(orient='records')\n",
    "    dv = DictVectorizer(sparse=False)\n",
    "    dv.fit(train_dict)\n",
    "\n",
    "    X_train = dv.transform(train_dict)\n",
    "    model = LogisticRegression(solver='liblinear', C=1.0, max_iter=1000)\n",
    "    model.fit(X_train, y_train)\n",
    "\n",
    "    val_dict = df_valid[desired_columns].to_dict(orient='records')\n",
    "    X_valid = dv.transform(val_dict)\n",
    "\n",
    "    y_pred = model.predict_proba(X_valid)[:, 1]\n",
    "    target_pred = y_pred > 0.5\n",
    "\n",
    "    acc_score = (y_valid == target_pred).mean()\n",
    "    auc_score = roc_auc_score(y_valid, y_pred)\n",
    "    fold_scores[fold_id] = {'acc': acc_score, 'auc': auc_score}\n"
   ]
  },
  {
   "cell_type": "markdown",
   "metadata": {},
   "source": [
    "How large is standard devidation of the scores across different folds?\n",
    "\n",
    "- 0.001\n",
    "- 0.014\n",
    "- 0.09\n",
    "- 0.14"
   ]
  },
  {
   "cell_type": "code",
   "execution_count": 18,
   "metadata": {},
   "outputs": [
    {
     "name": "stdout",
     "output_type": "stream",
     "text": [
      "0.015\n"
     ]
    }
   ],
   "source": [
    "auc_scores = [scores['auc'] for fold, scores in fold_scores.items()]\n",
    "print(round(np.std(auc_scores), 3))\n"
   ]
  },
  {
   "cell_type": "markdown",
   "metadata": {},
   "source": [
    "calculated standard deviation equals '0.015' and the closest value to it would be '0.014'."
   ]
  },
  {
   "cell_type": "markdown",
   "metadata": {},
   "source": [
    "## Question 6\n",
    "\n",
    "Now let's use 5-Fold cross-validation to find the best parameter C\n",
    "\n",
    "* Iterate over the following C values: `[0.01, 0.1, 1, 10]`\n",
    "* Initialize `KFold` with the same parameters as previously\n",
    "* Use these parametes for the model: `LogisticRegression(solver='liblinear', C=C, max_iter=1000)`\n",
    "* Compute the mean score as well as the std (round the mean and std to 3 decimal digits)"
   ]
  },
  {
   "cell_type": "code",
   "execution_count": 19,
   "metadata": {},
   "outputs": [],
   "source": [
    "C_params = [0.01, 0.1, 1, 10]\n",
    "\n",
    "c_scores = {}\n",
    "for C in C_params:\n",
    "    fold_scores = {}\n",
    "    for fold_id, (train_idx, valid_idx) in enumerate(kfold.split(df_train_full)):\n",
    "        df_train = df_train_full.iloc[train_idx]\n",
    "        df_valid = df_train_full.iloc[valid_idx]\n",
    "\n",
    "        y_train = df_train[target_column].to_numpy()\n",
    "        y_valid = df_valid[target_column].to_numpy()\n",
    "\n",
    "        train_dict = df_train[desired_columns].to_dict(orient='records')\n",
    "        dv = DictVectorizer(sparse=False)\n",
    "        dv.fit(train_dict)\n",
    "\n",
    "        X_train = dv.transform(train_dict)\n",
    "        model = LogisticRegression(solver='liblinear', C=C, max_iter=1000)\n",
    "        model.fit(X_train, y_train)\n",
    "\n",
    "        val_dict = df_valid[desired_columns].to_dict(orient='records')\n",
    "        X_valid = dv.transform(val_dict)\n",
    "\n",
    "        y_pred = model.predict_proba(X_valid)[:, 1]\n",
    "        target_pred = y_pred > 0.5\n",
    "\n",
    "        acc_score = (y_valid == target_pred).mean()\n",
    "        auc_score = roc_auc_score(y_valid, y_pred)\n",
    "        fold_scores[fold_id] = {'acc': acc_score, 'auc': auc_score}\n",
    "\n",
    "    c_scores[C] = fold_scores\n"
   ]
  },
  {
   "cell_type": "markdown",
   "metadata": {},
   "source": [
    "Which C leads to the best mean score?\n",
    "\n",
    "- 0.01\n",
    "- 0.1\n",
    "- 1\n",
    "- 10\n",
    "\n",
    "If you have ties, select the score with the lowest std. If you still have ties, select the smallest C"
   ]
  },
  {
   "cell_type": "code",
   "execution_count": 20,
   "metadata": {},
   "outputs": [
    {
     "name": "stdout",
     "output_type": "stream",
     "text": [
      "{0.01: {'mean': 0.808, 'std': 0.012}, 0.1: {'mean': 0.813, 'std': 0.014}, 1: {'mean': 0.814, 'std': 0.015}, 10: {'mean': 0.814, 'std': 0.015}}\n"
     ]
    }
   ],
   "source": [
    "c_means_stds = {}\n",
    "for C, scores in c_scores.items():\n",
    "    auc_values = [fold_scores['auc'] for fold, fold_scores in scores.items()]\n",
    "    mean_value = sum(auc_values) / num_folds\n",
    "    std_value  = np.std(auc_values)\n",
    "    c_means_stds[C] = {'mean': round(mean_value, 3), 'std': round(std_value, 3)}\n",
    "\n",
    "print(c_means_stds)\n"
   ]
  },
  {
   "cell_type": "markdown",
   "metadata": {},
   "source": [
    "The scores indicate that the model with C=1 and C=10 achieve the best mean score (0.814) with also equal values for std (0.015). Therefore C=1 which is the smaller value among the two is selected as the answer according to question terms."
   ]
  },
  {
   "cell_type": "markdown",
   "metadata": {},
   "source": []
  }
 ],
 "metadata": {
  "interpreter": {
   "hash": "97ae724bfa85b9b34df7982b8bb8c7216f435b92902d749e4263f71162bea840"
  },
  "kernelspec": {
   "display_name": "Python 3.7.11 64-bit ('base': conda)",
   "name": "python3"
  },
  "language_info": {
   "codemirror_mode": {
    "name": "ipython",
    "version": 3
   },
   "file_extension": ".py",
   "mimetype": "text/x-python",
   "name": "python",
   "nbconvert_exporter": "python",
   "pygments_lexer": "ipython3",
   "version": "3.7.12"
  }
 },
 "nbformat": 4,
 "nbformat_minor": 2
}

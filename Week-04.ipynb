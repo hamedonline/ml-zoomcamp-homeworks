{
 "cells": [
  {
   "cell_type": "markdown",
   "source": [
    "# Machine Learning Zoomcamp Homeworks"
   ],
   "metadata": {}
  },
  {
   "cell_type": "markdown",
   "source": [
    "## Week 4\r\n",
    "\r\n",
    "Use this notebook as a starter"
   ],
   "metadata": {}
  },
  {
   "cell_type": "code",
   "execution_count": 1,
   "source": [
    "import pandas as pd\r\n",
    "import numpy as np\r\n",
    "\r\n",
    "import matplotlib.pyplot as plt\r\n",
    "import seaborn as sns\r\n",
    "\r\n",
    "%matplotlib inline"
   ],
   "outputs": [],
   "metadata": {}
  },
  {
   "cell_type": "markdown",
   "source": [
    "## Preparation \n",
    "\n",
    "We'll talk about this dataset in more details in week 6. But for now, use the following code to get started"
   ],
   "metadata": {}
  },
  {
   "cell_type": "code",
   "execution_count": 2,
   "source": [
    "df = pd.read_csv('data\\CreditScoring.csv')\r\n",
    "df.columns = df.columns.str.lower()"
   ],
   "outputs": [],
   "metadata": {}
  },
  {
   "cell_type": "markdown",
   "source": [
    "Some of the features are encoded as numbers. Use the following code to de-code them:"
   ],
   "metadata": {}
  },
  {
   "cell_type": "code",
   "execution_count": 3,
   "source": [
    "status_values = {\r\n",
    "    1: 'ok',\r\n",
    "    2: 'default',\r\n",
    "    0: 'unk'\r\n",
    "}\r\n",
    "\r\n",
    "df.status = df.status.map(status_values)\r\n",
    "\r\n",
    "\r\n",
    "home_values = {\r\n",
    "    1: 'rent',\r\n",
    "    2: 'owner',\r\n",
    "    3: 'private',\r\n",
    "    4: 'ignore',\r\n",
    "    5: 'parents',\r\n",
    "    6: 'other',\r\n",
    "    0: 'unk'\r\n",
    "}\r\n",
    "\r\n",
    "df.home = df.home.map(home_values)\r\n",
    "\r\n",
    "marital_values = {\r\n",
    "    1: 'single',\r\n",
    "    2: 'married',\r\n",
    "    3: 'widow',\r\n",
    "    4: 'separated',\r\n",
    "    5: 'divorced',\r\n",
    "    0: 'unk'\r\n",
    "}\r\n",
    "\r\n",
    "df.marital = df.marital.map(marital_values)\r\n",
    "\r\n",
    "records_values = {\r\n",
    "    1: 'no',\r\n",
    "    2: 'yes',\r\n",
    "    0: 'unk'\r\n",
    "}\r\n",
    "\r\n",
    "df.records = df.records.map(records_values)\r\n",
    "\r\n",
    "job_values = {\r\n",
    "    1: 'fixed',\r\n",
    "    2: 'partime',\r\n",
    "    3: 'freelance',\r\n",
    "    4: 'others',\r\n",
    "    0: 'unk'\r\n",
    "}\r\n",
    "\r\n",
    "df.job = df.job.map(job_values)"
   ],
   "outputs": [],
   "metadata": {}
  },
  {
   "cell_type": "markdown",
   "source": [
    "Prepare the numerical variables:"
   ],
   "metadata": {}
  },
  {
   "cell_type": "code",
   "execution_count": 4,
   "source": [
    "for c in ['income', 'assets', 'debt']:\r\n",
    "    df[c] = df[c].replace(to_replace=99999999, value=0)"
   ],
   "outputs": [],
   "metadata": {}
  },
  {
   "cell_type": "markdown",
   "source": [
    "Remove clients with unknown default status"
   ],
   "metadata": {}
  },
  {
   "cell_type": "code",
   "execution_count": 5,
   "source": [
    "df = df[df.status != 'unk'].reset_index(drop=True)"
   ],
   "outputs": [],
   "metadata": {}
  },
  {
   "cell_type": "markdown",
   "source": [
    "Create the target variable"
   ],
   "metadata": {}
  },
  {
   "cell_type": "code",
   "execution_count": 6,
   "source": [
    "df['default'] = (df.status == 'default').astype(int)\r\n",
    "del df['status']"
   ],
   "outputs": [],
   "metadata": {}
  },
  {
   "cell_type": "markdown",
   "source": [
    "## Your code"
   ],
   "metadata": {}
  },
  {
   "cell_type": "markdown",
   "source": [
    "What are the categorical variables? What are the numerical?"
   ],
   "metadata": {}
  },
  {
   "cell_type": "code",
   "execution_count": 7,
   "source": [
    "columns_categorical = df.select_dtypes(include=['flexible', 'object', 'bool']).columns.to_list()\r\n",
    "columns_numerical   = df.select_dtypes(include=['number']).columns.to_list()\r\n",
    "\r\n",
    "print(\"Categorical Columns:\\n\", columns_categorical)\r\n",
    "print(\"Numerical Columns:\\n\", columns_numerical)"
   ],
   "outputs": [
    {
     "output_type": "stream",
     "name": "stdout",
     "text": [
      "Categorical Columns:\n",
      " ['home', 'marital', 'records', 'job']\n",
      "Numerical Columns:\n",
      " ['seniority', 'time', 'age', 'expenses', 'income', 'assets', 'debt', 'amount', 'price', 'default']\n"
     ]
    }
   ],
   "metadata": {}
  },
  {
   "cell_type": "markdown",
   "source": [
    "Split the data into 3 parts: train/validation/test with 60%/20%/20% distribution. Use `train_test_split` funciton for that with `random_state=1`"
   ],
   "metadata": {}
  },
  {
   "cell_type": "code",
   "execution_count": 8,
   "source": [
    "from sklearn.model_selection import train_test_split\r\n",
    "\r\n",
    "random_seed = 1\r\n",
    "df_train_full, df_test = train_test_split(df, test_size=0.2, random_state=random_seed)\r\n",
    "df_train, df_valid     = train_test_split(df_train_full, test_size=0.25, random_state=random_seed)\r\n",
    "\r\n",
    "print(len(df), len(df_train), len(df_valid), len(df_test))"
   ],
   "outputs": [
    {
     "output_type": "stream",
     "name": "stdout",
     "text": [
      "4454 2672 891 891\n"
     ]
    }
   ],
   "metadata": {}
  },
  {
   "cell_type": "markdown",
   "source": [
    "## Question 1\r\n",
    "\r\n",
    "ROC AUC could also be used to evaluate feature importance of numerical variables. \r\n",
    "\r\n",
    "Let's do that\r\n",
    "\r\n",
    "* For each numerical variable, use it as score and compute AUC with the \"default\" variable\r\n",
    "* Use the training dataset for that\r\n",
    "\r\n",
    "\r\n",
    "If your AUC is < 0.5, invert this variable by putting \"-\" in front\r\n",
    "\r\n",
    "(e.g. `-df_train['expenses']`)\r\n",
    "\r\n",
    "AUC can go below 0.5 if the variable is negatively correlated with the target varialble. You can change the direction of the correlation by negating this variable - then negative correlation becomes positive."
   ],
   "metadata": {}
  },
  {
   "cell_type": "code",
   "execution_count": 9,
   "source": [
    "from sklearn.metrics import auc\r\n",
    "\r\n",
    "\r\n",
    "def calculate_column_importance(df, column_name, target_column_name, invert=False):\r\n",
    "    actual_positive = (df[target_column_name] == 1)\r\n",
    "    actual_negative = (df[target_column_name] == 0)\r\n",
    "\r\n",
    "    column_tpr, column_fpr = [], []\r\n",
    "    column_values = -df[column_name] if invert else df[column_name]\r\n",
    "    for threshold in np.linspace(column_values.min(), column_values.max(), 100):\r\n",
    "        predict_positive = (column_values >= threshold)\r\n",
    "        predict_negative = (column_values < threshold)\r\n",
    "\r\n",
    "        column_tp = (predict_positive & actual_positive).sum()\r\n",
    "        column_tn = (predict_negative & actual_negative).sum()\r\n",
    "        column_fp = (predict_positive & actual_negative).sum()\r\n",
    "        column_fn = (predict_negative & actual_positive).sum()\r\n",
    "\r\n",
    "        tpr = column_tp / (column_tp + column_fn)\r\n",
    "        fpr = column_fp / (column_fp + column_tn)\r\n",
    "\r\n",
    "        column_tpr.append(tpr)\r\n",
    "        column_fpr.append(fpr)\r\n",
    "\r\n",
    "    column_auc = auc(column_fpr, column_tpr)\r\n",
    "    if round(column_auc, 2) < 0.5:\r\n",
    "        return calculate_column_importance(df, column_name, target_column_name, invert=True)\r\n",
    "    return column_auc, column_tpr, column_fpr\r\n",
    "\r\n",
    "\r\n",
    "plt.figure(figsize=(8, 8))\r\n",
    "\r\n",
    "target_column = 'default'\r\n",
    "score_columns = list(set(columns_numerical) - set([target_column]))\r\n",
    "\r\n",
    "auc_scores = {}\r\n",
    "for column in score_columns:\r\n",
    "    column_auc, column_tpr, column_fpr = calculate_column_importance(df_train, column, target_column)\r\n",
    "    plt.plot(column_fpr, column_tpr, label=column+', auc='+str(round(column_auc, 4)))\r\n",
    "    auc_scores[column] = {'auc_score': column_auc, 'tpr': column_tpr, 'fpr': column_fpr}\r\n",
    "\r\n",
    "plt.title('ROC AUC')\r\n",
    "plt.xlabel('False Positive Rate')\r\n",
    "plt.ylabel('True Positive Rate')\r\n",
    "plt.legend(loc='lower right')\r\n",
    "plt.show()\r\n"
   ],
   "outputs": [
    {
     "output_type": "display_data",
     "data": {
      "image/png": "[encoded data removed]",
      "text/plain": [
       "<Figure size 576x576 with 1 Axes>"
      ]
     },
     "metadata": {
      "needs_background": "light"
     }
    }
   ],
   "metadata": {}
  },
  {
   "cell_type": "markdown",
   "source": [
    "Which numerical variable (among the following 4) has the highest AUC?\n",
    "\n",
    "- seniority\n",
    "- time\n",
    "- income\n",
    "- debt"
   ],
   "metadata": {}
  },
  {
   "cell_type": "code",
   "execution_count": 10,
   "source": [
    "auc_scores_only = {column: values['auc_score'] for column, values in auc_scores.items()}\r\n",
    "print({k: v for k, v in sorted(auc_scores_only.items(), key=lambda item: item[1], reverse=True)})"
   ],
   "outputs": [
    {
     "output_type": "stream",
     "name": "stdout",
     "text": [
      "{'seniority': 0.7017699731473966, 'income': 0.6768705398034989, 'amount': 0.5912765609164017, 'age': 0.5732919341188272, 'assets': 0.5626323909961933, 'time': 0.5608662489595051, 'price': 0.5043995082246981, 'expenses': 0.4992222845261439, 'debt': 0.4986528421617216}\n"
     ]
    }
   ],
   "metadata": {}
  },
  {
   "cell_type": "markdown",
   "source": [
    "The sorted values for AUC scores indicates that 'seniority' column has the highest AUC."
   ],
   "metadata": {}
  },
  {
   "cell_type": "markdown",
   "source": [
    "## Training the model\r\n",
    "\r\n",
    "From now on, use these columns only:\r\n",
    "\r\n",
    "```\r\n",
    "['seniority', 'income', 'assets', 'records', 'job', 'home']\r\n",
    "```\r\n",
    "\r\n",
    "Apply one-hot-encoding using `DictVectorizer` and train the logistic regression with these parameters:\r\n",
    "\r\n",
    "```\r\n",
    "LogisticRegression(solver='liblinear', C=1.0, max_iter=1000)\r\n",
    "```"
   ],
   "metadata": {}
  },
  {
   "cell_type": "code",
   "execution_count": 11,
   "source": [
    "from sklearn.feature_extraction import DictVectorizer\r\n",
    "from sklearn.linear_model import LogisticRegression\r\n",
    "\r\n",
    "\r\n",
    "desired_columns = ['seniority', 'income', 'assets', 'records', 'job', 'home']\r\n",
    "\r\n",
    "y_train = df_train[target_column].to_numpy()\r\n",
    "y_valid = df_valid[target_column].to_numpy()\r\n",
    "y_test  = df_test[target_column].to_numpy()\r\n",
    "\r\n",
    "del df_train[target_column]\r\n",
    "del df_valid[target_column]\r\n",
    "del df_test[target_column]\r\n",
    "\r\n",
    "\r\n",
    "train_dict = df_train[desired_columns].to_dict(orient='records')\r\n",
    "dv = DictVectorizer(sparse=False)\r\n",
    "dv.fit(train_dict)\r\n",
    "\r\n",
    "X_train = dv.transform(train_dict)\r\n",
    "model = LogisticRegression(solver='liblinear', C=1.0, max_iter=1000)\r\n",
    "model.fit(X_train, y_train)"
   ],
   "outputs": [
    {
     "output_type": "execute_result",
     "data": {
      "text/plain": [
       "LogisticRegression(max_iter=1000, solver='liblinear')"
      ]
     },
     "metadata": {},
     "execution_count": 11
    }
   ],
   "metadata": {}
  },
  {
   "cell_type": "markdown",
   "source": [
    "## Question 2\r\n",
    "\r\n",
    "What's the AUC of this model on the validation dataset? (round to 3 digits)\r\n",
    "\r\n",
    "- 0.512\r\n",
    "- 0.612\r\n",
    "- 0.712\r\n",
    "- 0.812"
   ],
   "metadata": {}
  },
  {
   "cell_type": "code",
   "execution_count": 12,
   "source": [
    "from sklearn.metrics import roc_auc_score\r\n",
    "\r\n",
    "\r\n",
    "val_dict = df_valid[desired_columns].to_dict(orient='records')\r\n",
    "X_valid = dv.transform(val_dict)\r\n",
    "\r\n",
    "y_pred = model.predict_proba(X_valid)[:, 1]\r\n",
    "target_pred = y_pred > 0.5\r\n",
    "\r\n",
    "pred_score = (y_valid == target_pred).mean()\r\n",
    "print('<<Accuracy Score>>\\n > Actual: {}\\n > Rounded: {}\\n'.format(pred_score, round(pred_score, 2)))\r\n",
    "\r\n",
    "auc_score = roc_auc_score(y_valid, y_pred)\r\n",
    "print('<<AUC Score>>\\n > Actual: {}\\n > Rounded: {}\\n'.format(auc_score, round(auc_score, 3)))"
   ],
   "outputs": [
    {
     "output_type": "stream",
     "name": "stdout",
     "text": [
      "<<Accuracy Score>>\n",
      " > Actual: 0.7800224466891134\n",
      " > Rounded: 0.78\n",
      "\n",
      "<<AUC Score>>\n",
      " > Actual: 0.8120879813449298\n",
      " > Rounded: 0.812\n",
      "\n"
     ]
    }
   ],
   "metadata": {}
  },
  {
   "cell_type": "markdown",
   "source": [
    "## Question 3\n",
    "\n",
    "Now let's compute precision and recall for our model.\n",
    "\n",
    "* Evaluate the model on all thresholds from 0.0 to 1.0 with step 0.01\n",
    "* For each threshold, compute precision and recall\n",
    "* Plot them"
   ],
   "metadata": {}
  },
  {
   "cell_type": "code",
   "execution_count": 13,
   "source": [
    "def create_evaluation_metrics(y_valid, y_pred, thresholds):\r\n",
    "    metrics = []\r\n",
    "\r\n",
    "    for t in thresholds:\r\n",
    "        actual_positive  = (y_valid == 1)\r\n",
    "        actual_negative  = (y_valid == 0)\r\n",
    "        predict_positive = (y_pred  >= t)\r\n",
    "        predict_negative = (y_pred  <  t)\r\n",
    "\r\n",
    "        tp = (predict_positive & actual_positive).sum()\r\n",
    "        tn = (predict_negative & actual_negative).sum()\r\n",
    "        fp = (predict_positive & actual_negative).sum()\r\n",
    "        fn = (predict_negative & actual_positive).sum()\r\n",
    "\r\n",
    "        tpr = tp / (tp + fn)\r\n",
    "        fpr = fp / (fp + tn)\r\n",
    "\r\n",
    "        accuracy = (tp + tn) / (tp + tn + fp + fn)\r\n",
    "        recall = tpr  # recall = true positive rate = sensitivity\r\n",
    "        precision = tp / (tp + fp)\r\n",
    "        specificity = tn / (tn + fp)\r\n",
    "        f1 = (2 * precision * recall) / (precision + recall)\r\n",
    "\r\n",
    "        metrics.append((t, tp, tn, fp, fn, tpr, fpr, accuracy, recall, precision, specificity, f1))\r\n",
    "\r\n",
    "    metric_columns = ['threshold', 'tp', 'tn', 'fp', 'fn', 'tpr', 'fpr', 'accuracy', 'recall', 'precision', 'specificity', 'f1']\r\n",
    "    metric_scores  = pd.DataFrame(data=metrics, columns=metric_columns)\r\n",
    "\r\n",
    "    return metric_scores\r\n",
    "\r\n",
    "\r\n",
    "thresholds = np.arange(0, 1.01, 0.01)\r\n",
    "metric_scores = create_evaluation_metrics(y_valid, y_pred, thresholds)\r\n",
    "\r\n",
    "\r\n",
    "plt.figure(figsize=(8, 8))\r\n",
    "plt.plot(metric_scores['threshold'], metric_scores['recall'], label='recall')\r\n",
    "plt.plot(metric_scores['threshold'], metric_scores['precision'], label='precision')\r\n",
    "plt.xlabel('threshold')\r\n",
    "plt.title('Precision & Recall Plot')\r\n",
    "plt.legend(loc='lower right')\r\n",
    "plt.show()"
   ],
   "outputs": [
    {
     "output_type": "stream",
     "name": "stderr",
     "text": [
      "C:\\Anaconda3\\lib\\site-packages\\ipykernel_launcher.py:20: RuntimeWarning: invalid value encountered in long_scalars\n"
     ]
    },
    {
     "output_type": "display_data",
     "data": {
      "image/png": "[encoded data removed]",
      "text/plain": [
       "<Figure size 576x576 with 1 Axes>"
      ]
     },
     "metadata": {
      "needs_background": "light"
     }
    }
   ],
   "metadata": {}
  },
  {
   "cell_type": "markdown",
   "source": [
    "At which threshold precision and recall curves intersect?\n",
    "\n",
    "* 0.2\n",
    "* 0.4\n",
    "* 0.6\n",
    "* 0.8"
   ],
   "metadata": {}
  },
  {
   "cell_type": "code",
   "execution_count": 14,
   "source": [
    "intersection_index = (metric_scores['precision'] - metric_scores['recall']).abs().argmin()\r\n",
    "metric_scores.iloc[intersection_index]['threshold']"
   ],
   "outputs": [
    {
     "output_type": "execute_result",
     "data": {
      "text/plain": [
       "0.4"
      ]
     },
     "metadata": {},
     "execution_count": 14
    }
   ],
   "metadata": {}
  },
  {
   "cell_type": "markdown",
   "source": [
    "## Question 4\n",
    "\n",
    "Precision and recall are conflicting - when one grows, the other goes down. That's why they are often combined into the F1 score - a metrics that takes into account both\n",
    "\n",
    "This is the formula for computing F1:\n",
    "\n",
    "$$F_1 = 2 \\cdot \\cfrac{P \\cdot R}{P + R}$$\n",
    "\n",
    "Where $P$ is precision and $R$ is recall.\n",
    "\n",
    "Let's compute F1 for all thresholds from 0.0 to 1.0 with increment 0.01"
   ],
   "metadata": {}
  },
  {
   "cell_type": "code",
   "execution_count": 15,
   "source": [
    "# already computed in metrics\r\n",
    "\r\n",
    "metric_scores['f1']"
   ],
   "outputs": [
    {
     "output_type": "execute_result",
     "data": {
      "text/plain": [
       "0      0.432718\n",
       "1      0.436557\n",
       "2      0.442430\n",
       "3      0.447734\n",
       "4      0.460514\n",
       "         ...   \n",
       "96          NaN\n",
       "97          NaN\n",
       "98          NaN\n",
       "99          NaN\n",
       "100         NaN\n",
       "Name: f1, Length: 101, dtype: float64"
      ]
     },
     "metadata": {},
     "execution_count": 15
    }
   ],
   "metadata": {}
  },
  {
   "cell_type": "markdown",
   "source": [
    "At which threshold F1 is maximal?\n",
    "\n",
    "- 0.1\n",
    "- 0.3\n",
    "- 0.5\n",
    "- 0.7"
   ],
   "metadata": {}
  },
  {
   "cell_type": "code",
   "execution_count": 16,
   "source": [
    "max_f1_index = (metric_scores['f1']).argmax()\r\n",
    "metric_scores.iloc[max_f1_index]['threshold']"
   ],
   "outputs": [
    {
     "output_type": "execute_result",
     "data": {
      "text/plain": [
       "0.3"
      ]
     },
     "metadata": {},
     "execution_count": 16
    }
   ],
   "metadata": {}
  },
  {
   "cell_type": "markdown",
   "source": [
    "## Question 5\n",
    "\n",
    "\n",
    "Use the `KFold` class from Scikit-Learn to evaluate our model on 5 different folds:\n",
    "\n",
    "```\n",
    "KFold(n_splits=5, shuffle=True, random_state=1)\n",
    "```\n",
    "\n",
    "* Iterate over different folds of `df_full_train`\n",
    "* Split the data into train and validation\n",
    "* Train the model on train with these parameters: `LogisticRegression(solver='liblinear', C=1.0, max_iter=1000)`\n",
    "* Use AUC to evaluate the model on validation\n"
   ],
   "metadata": {}
  },
  {
   "cell_type": "code",
   "execution_count": 17,
   "source": [
    "from sklearn.model_selection import KFold\r\n",
    "\r\n",
    "\r\n",
    "num_folds = 5\r\n",
    "kfold = KFold(n_splits=num_folds, shuffle=True, random_state=1)\r\n",
    "\r\n",
    "target_column = 'default'\r\n",
    "train_columns = list(set(columns_numerical+columns_categorical) - set([target_column]))\r\n",
    "fold_scores = {}\r\n",
    "for fold_id, (train_idx, valid_idx) in enumerate(kfold.split(df_train_full)):\r\n",
    "    df_train = df_train_full.iloc[train_idx]\r\n",
    "    df_valid = df_train_full.iloc[valid_idx]\r\n",
    "\r\n",
    "    y_train = df_train[target_column].to_numpy()\r\n",
    "    y_valid = df_valid[target_column].to_numpy()\r\n",
    "\r\n",
    "    train_dict = df_train[train_columns].to_dict(orient='records')\r\n",
    "    dv = DictVectorizer(sparse=False)\r\n",
    "    dv.fit(train_dict)\r\n",
    "\r\n",
    "    X_train = dv.transform(train_dict)\r\n",
    "    model = LogisticRegression(solver='liblinear', C=1.0, max_iter=1000)\r\n",
    "    model.fit(X_train, y_train)\r\n",
    "\r\n",
    "    val_dict = df_valid[train_columns].to_dict(orient='records')\r\n",
    "    X_valid = dv.transform(val_dict)\r\n",
    "\r\n",
    "    y_pred = model.predict_proba(X_valid)[:, 1]\r\n",
    "    target_pred = y_pred > 0.5\r\n",
    "\r\n",
    "    acc_score = (y_valid == target_pred).mean()\r\n",
    "    auc_score = roc_auc_score(y_valid, y_pred)\r\n",
    "    fold_scores[fold_id] = {'acc': acc_score, 'auc': auc_score}\r\n"
   ],
   "outputs": [],
   "metadata": {}
  },
  {
   "cell_type": "markdown",
   "source": [
    "How large is standard devidation of the scores across different folds?\n",
    "\n",
    "- 0.001\n",
    "- 0.014\n",
    "- 0.09\n",
    "- 0.14"
   ],
   "metadata": {}
  },
  {
   "cell_type": "code",
   "execution_count": 18,
   "source": [
    "auc_scores = [scores['auc'] for fold, scores in fold_scores.items()]\r\n",
    "print(round(np.std(auc_scores), 3))\r\n"
   ],
   "outputs": [
    {
     "output_type": "stream",
     "name": "stdout",
     "text": [
      "0.017\n"
     ]
    }
   ],
   "metadata": {}
  },
  {
   "cell_type": "markdown",
   "source": [
    "calculated standard deviation equals '0.017' and the closest value to it would be '0.014'."
   ],
   "metadata": {}
  },
  {
   "cell_type": "markdown",
   "source": [
    "## Question 6\r\n",
    "\r\n",
    "Now let's use 5-Fold cross-validation to find the best parameter C\r\n",
    "\r\n",
    "* Iterate over the following C values: `[0.01, 0.1, 1, 10]`\r\n",
    "* Initialize `KFold` with the same parameters as previously\r\n",
    "* Use these parametes for the model: `LogisticRegression(solver='liblinear', C=C, max_iter=1000)`\r\n",
    "* Compute the mean score as well as the std (round the mean and std to 3 decimal digits)"
   ],
   "metadata": {}
  },
  {
   "cell_type": "code",
   "execution_count": 19,
   "source": [
    "C_params = [0.01, 0.1, 1, 10]\r\n",
    "\r\n",
    "c_scores = {}\r\n",
    "for C in C_params:\r\n",
    "    fold_scores = {}\r\n",
    "    for fold_id, (train_idx, valid_idx) in enumerate(kfold.split(df_train_full)):\r\n",
    "        df_train = df_train_full.iloc[train_idx]\r\n",
    "        df_valid = df_train_full.iloc[valid_idx]\r\n",
    "\r\n",
    "        y_train = df_train[target_column].to_numpy()\r\n",
    "        y_valid = df_valid[target_column].to_numpy()\r\n",
    "\r\n",
    "        train_dict = df_train[train_columns].to_dict(orient='records')\r\n",
    "        dv = DictVectorizer(sparse=False)\r\n",
    "        dv.fit(train_dict)\r\n",
    "\r\n",
    "        X_train = dv.transform(train_dict)\r\n",
    "        model = LogisticRegression(solver='liblinear', C=C, max_iter=1000)\r\n",
    "        model.fit(X_train, y_train)\r\n",
    "\r\n",
    "        val_dict = df_valid[train_columns].to_dict(orient='records')\r\n",
    "        X_valid = dv.transform(val_dict)\r\n",
    "\r\n",
    "        y_pred = model.predict_proba(X_valid)[:, 1]\r\n",
    "        target_pred = y_pred > 0.5\r\n",
    "\r\n",
    "        acc_score = (y_valid == target_pred).mean()\r\n",
    "        auc_score = roc_auc_score(y_valid, y_pred)\r\n",
    "        fold_scores[fold_id] = {'acc': acc_score, 'auc': auc_score}\r\n",
    "\r\n",
    "    c_scores[C] = fold_scores\r\n"
   ],
   "outputs": [],
   "metadata": {}
  },
  {
   "cell_type": "markdown",
   "source": [
    "Which C leads to the best mean score?\n",
    "\n",
    "- 0.01\n",
    "- 0.1\n",
    "- 1\n",
    "- 10\n",
    "\n",
    "If you have ties, select the score with the lowest std. If you still have ties, select the smallest C"
   ],
   "metadata": {}
  },
  {
   "cell_type": "code",
   "execution_count": 20,
   "source": [
    "c_means_stds = {}\r\n",
    "for C, scores in c_scores.items():\r\n",
    "    auc_values = [fold_scores['auc'] for fold, fold_scores in scores.items()]\r\n",
    "    mean_value = sum(auc_values) / num_folds\r\n",
    "    std_value  = np.std(auc_values)\r\n",
    "    c_means_stds[C] = {'mean': round(mean_value, 3), 'std': round(std_value, 3)}\r\n",
    "\r\n",
    "print(c_means_stds)\r\n"
   ],
   "outputs": [
    {
     "output_type": "stream",
     "name": "stdout",
     "text": [
      "{0.01: {'mean': 0.835, 'std': 0.021}, 0.1: {'mean': 0.843, 'std': 0.017}, 1: {'mean': 0.844, 'std': 0.017}, 10: {'mean': 0.843, 'std': 0.016}}\n"
     ]
    }
   ],
   "metadata": {}
  },
  {
   "cell_type": "markdown",
   "source": [
    "The scores indicate that the model with C=1 achieves the best mean score (0.844)."
   ],
   "metadata": {}
  },
  {
   "cell_type": "markdown",
   "source": [],
   "metadata": {}
  }
 ],
 "metadata": {
  "kernelspec": {
   "name": "python3",
   "display_name": "Python 3.7.11 64-bit ('base': conda)"
  },
  "language_info": {
   "codemirror_mode": {
    "name": "ipython",
    "version": 3
   },
   "file_extension": ".py",
   "mimetype": "text/x-python",
   "name": "python",
   "nbconvert_exporter": "python",
   "pygments_lexer": "ipython3",
   "version": "3.7.11"
  },
  "interpreter": {
   "hash": "97ae724bfa85b9b34df7982b8bb8c7216f435b92902d749e4263f71162bea840"
  }
 },
 "nbformat": 4,
 "nbformat_minor": 2
}
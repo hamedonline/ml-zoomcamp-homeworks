{
 "cells": [
  {
   "cell_type": "markdown",
   "source": [
    "# Machine Learning Zoomcamp Homeworks"
   ],
   "metadata": {}
  },
  {
   "cell_type": "markdown",
   "source": [
    "## Week 1"
   ],
   "metadata": {}
  },
  {
   "cell_type": "markdown",
   "source": [
    "### Question #1\n",
    "What's the version of NumPy that you installed?"
   ],
   "metadata": {}
  },
  {
   "cell_type": "code",
   "execution_count": 1,
   "source": [
    "# answer to question #1\r\n",
    "\r\n",
    "import numpy as np\r\n",
    "print('Numpy version: {}'.format(np.__version__))"
   ],
   "outputs": [
    {
     "output_type": "stream",
     "name": "stdout",
     "text": [
      "Numpy version: 1.20.3\n"
     ]
    }
   ],
   "metadata": {}
  },
  {
   "cell_type": "markdown",
   "source": [
    "### Question #2\n",
    "What's the version of Pandas?"
   ],
   "metadata": {}
  },
  {
   "cell_type": "code",
   "execution_count": 2,
   "source": [
    "# answer to question #2\r\n",
    "\r\n",
    "import pandas as pd\r\n",
    "print('Pandas version: {}'.format(pd.__version__))"
   ],
   "outputs": [
    {
     "output_type": "stream",
     "name": "stdout",
     "text": [
      "Pandas version: 1.3.2\n"
     ]
    }
   ],
   "metadata": {}
  },
  {
   "cell_type": "markdown",
   "source": [
    "### Question #3\n",
    "What's the average price of BMW cars in the dataset?"
   ],
   "metadata": {
    "tags": []
   }
  },
  {
   "cell_type": "code",
   "execution_count": 3,
   "source": [
    "# answer to question #3\r\n",
    "\r\n",
    "df = pd.read_csv('data\\data.csv')\r\n",
    "df_subset_BMW = df[ df['Make']=='BMW' ]\r\n",
    "print('Average price of BMW cars in dataset: {}'.format(df_subset_BMW['MSRP'].mean()))"
   ],
   "outputs": [
    {
     "output_type": "stream",
     "name": "stdout",
     "text": [
      "Average price of BMW cars in dataset: 61546.76347305389\n"
     ]
    }
   ],
   "metadata": {}
  },
  {
   "cell_type": "markdown",
   "source": [
    "### Question #4\n",
    "Select a subset of cars after year 2015 (inclusive, i.e. 2015 and after). How many of them have missing values for Engine HP?"
   ],
   "metadata": {
    "tags": []
   }
  },
  {
   "cell_type": "code",
   "execution_count": 4,
   "source": [
    "# answer to question #4\r\n",
    "\r\n",
    "df_subset_2015above = df[ df['Year'] >= 2015 ]\r\n",
    "print(\"Missing values count in 'Engine HP' column for cars manufactured in 2015 & later: {}\".format(df_subset_2015above['Engine HP'].isnull().sum()))"
   ],
   "outputs": [
    {
     "output_type": "stream",
     "name": "stdout",
     "text": [
      "Missing values count in 'Engine HP' column for cars manufactured in 2015 & later: 51\n"
     ]
    }
   ],
   "metadata": {}
  },
  {
   "cell_type": "markdown",
   "source": [
    "### Question #5\n",
    "- Calculate the average \"Engine HP\" in the dataset.\n",
    "- Use the fillna method and to fill the missing values in \"Engine HP\" with the mean value from the previous step.\n",
    "- Now, calcualte the average of \"Engine HP\" again.\n",
    "- Has it changed?\n",
    "\n",
    "Round both means before answering this questions. You can use the _round_ function for that:\n",
    "```python\n",
    "print(round(mean_hp_before))\n",
    "print(round(mean_hp_after))\n",
    "```"
   ],
   "metadata": {
    "tags": []
   }
  },
  {
   "cell_type": "code",
   "execution_count": 5,
   "source": [
    "# answer to question #5\r\n",
    "\r\n",
    "mean_hp_before  = df['Engine HP'].mean()\r\n",
    "df['Engine HP'] = df['Engine HP'].fillna(mean_hp_before)\r\n",
    "mean_hp_after   = df['Engine HP'].mean()\r\n",
    "\r\n",
    "print(\"Average 'Engine HP' before: {}\".format(mean_hp_before))\r\n",
    "print(\"Average 'Engine HP' after:  {}\".format(mean_hp_after))\r\n",
    "print(round(mean_hp_before) == round(mean_hp_after))"
   ],
   "outputs": [
    {
     "output_type": "stream",
     "name": "stdout",
     "text": [
      "Average 'Engine HP' before: 249.38607007176023\n",
      "Average 'Engine HP' after:  249.38607007176\n",
      "True\n"
     ]
    }
   ],
   "metadata": {}
  },
  {
   "cell_type": "markdown",
   "source": [
    "### Question #6\n",
    "- Select all the \"Rolls-Royce\" cars from the dataset.\n",
    "- Select only columns \"Engine HP\", \"Engine Cylinders\", \"highway MPG\".\n",
    "- Now drop all duplicated rows using _drop_duplicates_ method (you should get a dataframe with 7 rows).\n",
    "- Get the underlying NumPy array.\n",
    "- Compute matrix-matrix multiplication between the transpose of _X_ and _X_. To get the transpose, use _X.T_. Let's call the result _XTX_.\n",
    "- Invert _XTX_.\n",
    "- What's the sum of all the elements of the result?\n",
    "\n",
    "Hint: if the result is negative, re-read the task one more time"
   ],
   "metadata": {
    "tags": []
   }
  },
  {
   "cell_type": "code",
   "execution_count": 6,
   "source": [
    "# answer to question #6: approach 1\r\n",
    "\r\n",
    "df_subset_rollsroyce = df[ df['Make'] == 'Rolls-Royce' ]\r\n",
    "X = df_subset_rollsroyce[['Engine HP', 'Engine Cylinders', 'highway MPG']].drop_duplicates().to_numpy()\r\n",
    "# XTX = X.dot(X.T)\r\n",
    "XTX = (X.T).dot(X)\r\n",
    "XTX_inverse = np.linalg.inv(XTX)\r\n",
    "XTX_inverse.sum()"
   ],
   "outputs": [
    {
     "output_type": "execute_result",
     "data": {
      "text/plain": [
       "0.032212320677486195"
      ]
     },
     "metadata": {},
     "execution_count": 6
    }
   ],
   "metadata": {}
  },
  {
   "cell_type": "code",
   "execution_count": 7,
   "source": [
    "# # answer to question #6: approach 2\r\n",
    "\r\n",
    "# def vector_vector_multiplication(u, v):\r\n",
    "#     assert u.shape[0] == v.shape[0]\r\n",
    "    \r\n",
    "#     n = u.shape[0]\r\n",
    "    \r\n",
    "#     result = 0.0\r\n",
    "\r\n",
    "#     for i in range(n):\r\n",
    "#         result = result + u[i] * v[i]\r\n",
    "    \r\n",
    "#     return result\r\n",
    "\r\n",
    "\r\n",
    "# def matrix_vector_multiplication(U, v):\r\n",
    "#     assert U.shape[1] == v.shape[0]\r\n",
    "    \r\n",
    "#     num_rows = U.shape[0]\r\n",
    "    \r\n",
    "#     result = np.zeros(num_rows)\r\n",
    "    \r\n",
    "#     for i in range(num_rows):\r\n",
    "#         result[i] = vector_vector_multiplication(U[i], v)\r\n",
    "    \r\n",
    "#     return result\r\n",
    "\r\n",
    "\r\n",
    "# def matrix_matrix_multiplication(U, V):\r\n",
    "#     assert U.shape[1] == V.shape[0]\r\n",
    "    \r\n",
    "#     num_rows = U.shape[0]\r\n",
    "#     num_cols = V.shape[1]\r\n",
    "    \r\n",
    "#     result = np.zeros((num_rows, num_cols))\r\n",
    "    \r\n",
    "#     for i in range(num_cols):\r\n",
    "#         vi = V[:, i]\r\n",
    "#         Uvi = matrix_vector_multiplication(U, vi)\r\n",
    "#         result[:, i] = Uvi\r\n",
    "    \r\n",
    "#     return result\r\n",
    "\r\n",
    "\r\n",
    "# df_subset_rollsroyce = df[ df['Make'] == 'Rolls-Royce' ]\r\n",
    "# X = df_subset_rollsroyce[['Engine HP', 'Engine Cylinders', 'highway MPG']].drop_duplicates().to_numpy()\r\n",
    "# XTX = matrix_matrix_multiplication(X.T, X)\r\n",
    "# XTX_inverse = np.linalg.inv(XTX)\r\n",
    "# XTX_inverse.sum()"
   ],
   "outputs": [],
   "metadata": {}
  },
  {
   "cell_type": "markdown",
   "source": [
    "### Question #7\n",
    "- Create an array _y_ with values _[1000, 1100, 900, 1200, 1000, 850, 1300]_.\n",
    "- Multiply the inverse of _XTX_ with the transpose of _X_, and then multiply the result by _y_. Call the result _w_.\n",
    "- What's the value of the first element of _w_?.\n",
    "\n",
    "> **Note:** You just implemented linear regression. We'll talk about it in the next lesson."
   ],
   "metadata": {
    "tags": []
   }
  },
  {
   "cell_type": "code",
   "execution_count": 8,
   "source": [
    "# answer to question #7\r\n",
    "\r\n",
    "y = [1000, 1100, 900, 1200, 1000, 850, 1300]\r\n",
    "w = (XTX_inverse.dot(X.T)).dot(y)\r\n",
    "w"
   ],
   "outputs": [
    {
     "output_type": "execute_result",
     "data": {
      "text/plain": [
       "array([ 0.19989598, 31.02612262, 31.65378877])"
      ]
     },
     "metadata": {},
     "execution_count": 8
    }
   ],
   "metadata": {}
  },
  {
   "cell_type": "code",
   "execution_count": 9,
   "source": [
    "w[0]"
   ],
   "outputs": [
    {
     "output_type": "execute_result",
     "data": {
      "text/plain": [
       "0.19989598183186175"
      ]
     },
     "metadata": {},
     "execution_count": 9
    }
   ],
   "metadata": {}
  },
  {
   "cell_type": "code",
   "execution_count": null,
   "source": [],
   "outputs": [],
   "metadata": {}
  }
 ],
 "metadata": {
  "kernelspec": {
   "name": "python3",
   "display_name": "Python 3.7.11 64-bit ('base': conda)"
  },
  "language_info": {
   "codemirror_mode": {
    "name": "ipython",
    "version": 3
   },
   "file_extension": ".py",
   "mimetype": "text/x-python",
   "name": "python",
   "nbconvert_exporter": "python",
   "pygments_lexer": "ipython3",
   "version": "3.7.11"
  },
  "interpreter": {
   "hash": "97ae724bfa85b9b34df7982b8bb8c7216f435b92902d749e4263f71162bea840"
  }
 },
 "nbformat": 4,
 "nbformat_minor": 5
}
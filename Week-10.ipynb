{
 "cells": [
  {
   "cell_type": "markdown",
   "metadata": {},
   "source": [
    "# Machine Learning Zoomcamp Homeworks"
   ]
  },
  {
   "cell_type": "markdown",
   "metadata": {},
   "source": [
    "## Week 10\n",
    "\n",
    "In this homework, we'll deploy the churn prediction model from session 5.\n",
    "We already have a docker image for this model - we'll use it for \n",
    "deploying the model to Kubernetes.\n",
    "\n",
    "### Bulding the image\n",
    "\n",
    "Clone the course repo if you haven't:\n",
    "\n",
    "```\n",
    "git clone https://github.com/alexeygrigorev/mlbookcamp-code.git\n",
    "```\n",
    "\n",
    "Go to the `course-zoomcamp/05-deployment/code` folder and \n",
    "execute the following:\n",
    "\n",
    "\n",
    "```bash\n",
    "docker build -t churn-model:v001 .\n",
    "```\n",
    "\n",
    "> **Note:** If you have troubles building the image, you can \n",
    "> use the image I built and published to docker hub:\n",
    "> `agrigorev/zoomcamp-model:churn-v001`\n",
    "\n",
    "Run it to test that it's working locally:\n",
    "\n",
    "```bash\n",
    "docker run -it --rm -p 9696:9696 churn-model:v001\n",
    "```\n",
    "\n",
    "And in another terminal, execute `predict-test.py` file:\n",
    "\n",
    "```bash\n",
    "python predict-test.py\n",
    "```\n",
    "\n",
    "You should see this:\n",
    "\n",
    "```\n",
    "{'churn': False, 'churn_probability': 0.3257561103397851}\n",
    "not sending promo email to xyz-123\n",
    "```\n",
    "\n",
    "Now you can stop the container running in Docker.\n",
    "\n",
    "\n",
    "### Installing `kubectl` and `kind`\n",
    "\n",
    "You need to install:\n",
    "\n",
    "* `kubectl` - https://kubernetes.io/docs/tasks/tools/ (you might already have it - check before installing)\n",
    "* `kind` - https://kind.sigs.k8s.io/docs/user/quick-start/"
   ]
  },
  {
   "cell_type": "markdown",
   "metadata": {},
   "source": [
    "### Question #1: Version of kind\n",
    "\n",
    "What's the version of `kind` that you have? \n",
    "\n",
    "Use `kind --version` to find out."
   ]
  },
  {
   "cell_type": "code",
   "execution_count": 1,
   "metadata": {},
   "outputs": [
    {
     "name": "stdout",
     "output_type": "stream",
     "text": [
      "kind version 0.11.1\n"
     ]
    }
   ],
   "source": [
    "# answer to question #1\n",
    "\n",
    "!kind --version"
   ]
  },
  {
   "cell_type": "markdown",
   "metadata": {},
   "source": [
    "### Creating a cluster\n",
    "\n",
    "Now let's create a cluster with `kind`:\n",
    "\n",
    "```bash\n",
    "kind create cluster"
   ]
  },
  {
   "cell_type": "markdown",
   "metadata": {},
   "source": [
    "### Question #2: Verifying that everything works\n",
    "\n",
    "Now let's test if everything works. Use `kubectl` to get the list of running services.\n",
    "\n",
    "What's `CLUSTER-IP` of the service that is already running there?"
   ]
  },
  {
   "cell_type": "code",
   "execution_count": 5,
   "metadata": {},
   "outputs": [
    {
     "name": "stdout",
     "output_type": "stream",
     "text": [
      "NAME         TYPE        CLUSTER-IP   EXTERNAL-IP   PORT(S)   AGE\n",
      "kubernetes   ClusterIP   10.96.0.1    <none>        443/TCP   22h\n"
     ]
    }
   ],
   "source": [
    "# answer to question #2\n",
    "\n",
    "!kubectl get services"
   ]
  },
  {
   "cell_type": "markdown",
   "metadata": {},
   "source": [
    "As we can see, `10.96.0.1` is the `CLUSTER-IP` of the service listed by above command."
   ]
  },
  {
   "cell_type": "markdown",
   "metadata": {},
   "source": [
    "### Question #3: Uploading the image to kind\n",
    "\n",
    "To be able to use the docker image we previously created (`churn-model:v001`),\n",
    "we need to register it with kind.\n",
    "\n",
    "What's the command we need to run for that?"
   ]
  },
  {
   "cell_type": "markdown",
   "metadata": {},
   "source": [
    "__Answer:__ We should use this command to register the image with kind:\n",
    "\n",
    "If you used docker build manually:\n",
    "\n",
    "```bash\n",
    "kind load docker-image churn-model:v001\n",
    "```\n",
    "\n",
    "Or if you used docker pull to get the pre-built image:\n",
    "\n",
    "```bash\n",
    "kind load docker-image agrigorev/zoomcamp-model:churn-v001\n",
    "```"
   ]
  },
  {
   "cell_type": "code",
   "execution_count": 7,
   "metadata": {},
   "outputs": [
    {
     "name": "stderr",
     "output_type": "stream",
     "text": [
      "Image: \"agrigorev/zoomcamp-model:churn-v001\" with ID \"sha256:9114c930ca5fe93a530341d3bf5f125861000c0f19b79fdafebc66c1bfa32c61\" not yet present on node \"kind-control-plane\", loading...\n"
     ]
    }
   ],
   "source": [
    "# answer to question #3\n",
    "\n",
    "!kind load docker-image agrigorev/zoomcamp-model:churn-v001"
   ]
  },
  {
   "cell_type": "markdown",
   "metadata": {},
   "source": [
    "In order to check if the image is registered, we can use the following command in our terminal:\n",
    "\n",
    "```bash\n",
    "docker exec -ti kind-control-plane bash\n",
    "```\n",
    "\n",
    "and then run the following command:\n",
    "\n",
    "```bash\n",
    "crictl images\n",
    "```\n",
    "\n",
    "That should give a list of images that are currently registered, similar to this screenshot:\n",
    "\n",
    "![loaded docker images](resources/week-10/loaded_images.png \"Loaded Docker Images\")"
   ]
  },
  {
   "cell_type": "markdown",
   "metadata": {},
   "source": [
    "### Question #4: Creating a deployment\n",
    "\n",
    "Now let's create a deployment (e.g. `deployment.yaml`):\n",
    "\n",
    "```yaml\n",
    "apiVersion: apps/v1\n",
    "kind: Deployment\n",
    "metadata:\n",
    "  name: churn\n",
    "spec:\n",
    "  selector:\n",
    "    matchLabels:\n",
    "      app: churn\n",
    "  template:\n",
    "    metadata:\n",
    "      labels:\n",
    "        app: churn\n",
    "    spec:\n",
    "      containers:\n",
    "      - name: churn\n",
    "        image: <Image>\n",
    "        resources:\n",
    "          limits:\n",
    "            memory: \"128Mi\"\n",
    "            cpu: \"500m\"\n",
    "        ports:\n",
    "        - containerPort: <Port>\n",
    "```\n",
    "\n",
    "Replace `<Image>` and `<Port>` with the correct values.\n",
    "\n",
    "What is the value for `<Port>`?"
   ]
  },
  {
   "cell_type": "markdown",
   "metadata": {},
   "source": [
    "__Answer:__ The value for `<Port>` should be the same as the one we used in `Dockerfile` script in `05-deployment/code` folder to expose container port, which is __`9696`__.\n",
    "\n",
    "The `<Image>` tag in above lines for `deployment.yaml` file should also be replaced with `churn-model:v001` if you built the docker image manually, or `agrigorev/zoomcamp-model:churn-v001` if you used `docker pull` to get the pre-built image."
   ]
  },
  {
   "cell_type": "markdown",
   "metadata": {},
   "source": [
    "### Question #5: Pod name\n",
    "\n",
    "Apply this deployment:\n",
    "\n",
    "```yaml\n",
    "kubectl apply -f deployment\n",
    "```\n",
    "\n",
    "Now get a list of running pods.\n",
    "What's the name of the pod that just started?"
   ]
  },
  {
   "cell_type": "code",
   "execution_count": 8,
   "metadata": {},
   "outputs": [
    {
     "name": "stdout",
     "output_type": "stream",
     "text": [
      "NAME                    READY   STATUS    RESTARTS   AGE\n",
      "churn-b495897dd-rcnj8   1/1     Running   0          79s\n"
     ]
    }
   ],
   "source": [
    "# answer to question #5\n",
    "\n",
    "!kubectl get pods"
   ]
  },
  {
   "cell_type": "markdown",
   "metadata": {},
   "source": [
    "The above command gives us __churn-b495897dd-rcnj8__ as the \"NAME\" for the pod. Note that the pod name is generated by Kubernetes and will be different if you run the command on different machines."
   ]
  },
  {
   "cell_type": "markdown",
   "metadata": {},
   "source": [
    "### Question #6: Creating a service \n",
    "\n",
    "Let's create a service for this deployment (`service.yaml`):\n",
    "\n",
    "```yaml\n",
    "apiVersion: v1\n",
    "kind: Service\n",
    "metadata:\n",
    "  name: <Service name>\n",
    "spec:\n",
    "  type: LoadBalancer\n",
    "  selector:\n",
    "    app: <???>\n",
    "  ports:\n",
    "  - port: 80\n",
    "    targetPort: <PORT>\n",
    "```\n",
    "\n",
    "Fill it in. What do we need to write instead of `<???>`?\n",
    "\n",
    "Apply this config file."
   ]
  },
  {
   "cell_type": "markdown",
   "metadata": {},
   "source": [
    "__Answer:__ We need to write `churn` as the value for `<???>` in `service.yaml` file (the same value as in `deployment.yaml` for app label of our pod). I used `churn` as the name of the service instead of `<Service name>` tag. The `<PORT>` tag in `targetPort` line should also be replaced with __9696__ (the exposed port in `Dockerfile` script)."
   ]
  },
  {
   "cell_type": "code",
   "execution_count": 9,
   "metadata": {},
   "outputs": [
    {
     "name": "stdout",
     "output_type": "stream",
     "text": [
      "NAME         TYPE           CLUSTER-IP     EXTERNAL-IP   PORT(S)        AGE\n",
      "churn        LoadBalancer   10.96.83.193   <pending>     80:31361/TCP   3m21s\n",
      "kubernetes   ClusterIP      10.96.0.1      <none>        443/TCP        24h\n"
     ]
    }
   ],
   "source": [
    "# get running service\n",
    "\n",
    "!kubectl get services"
   ]
  },
  {
   "cell_type": "markdown",
   "metadata": {},
   "source": [
    "### Testing the service locally\n",
    "\n",
    "We can do it by forwarding the 9696 port on our computer to the port 80 on the service:\n",
    "\n",
    "```bash\n",
    "kubectl port-forward service/churn 9696:80\n",
    "```\n",
    "\n",
    "Run `predict-test.py` from session 5 to verify that everything is working."
   ]
  },
  {
   "cell_type": "markdown",
   "metadata": {},
   "source": [
    "After doing the port-forward, running `predict-test.py` from session 5 confirms the same response, now coming from Kubernetes:\n",
    "\n",
    "![Kubernetes response](resources/week-10/kubernetes_response.png \"Kubernetes Response\")"
   ]
  }
 ],
 "metadata": {
  "interpreter": {
   "hash": "0f5ac38789241b4bb81b8932c8570b25ca6d45fbb16cf755cff1dd5201e7e529"
  },
  "kernelspec": {
   "display_name": "Python 3.7.10 64-bit ('hw05-KBu8Ds8V': pipenv)",
   "name": "python3"
  },
  "language_info": {
   "codemirror_mode": {
    "name": "ipython",
    "version": 3
   },
   "file_extension": ".py",
   "mimetype": "text/x-python",
   "name": "python",
   "nbconvert_exporter": "python",
   "pygments_lexer": "ipython3",
   "version": "3.7.12"
  },
  "orig_nbformat": 4
 },
 "nbformat": 4,
 "nbformat_minor": 2
}

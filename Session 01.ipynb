{
 "cells": [
  {
   "cell_type": "markdown",
   "id": "961ed57f-b74e-4fac-9b02-a1283d15d4b6",
   "metadata": {},
   "source": [
    "# Machine Learning Zoomcamp Homeworks"
   ]
  },
  {
   "cell_type": "markdown",
   "id": "c6420c2f-48b7-4ce1-89f5-3936bbffacf7",
   "metadata": {},
   "source": [
    "## Session 1"
   ]
  },
  {
   "cell_type": "markdown",
   "id": "3347c2a9-faac-4258-bbeb-2f950ff50b03",
   "metadata": {},
   "source": [
    "### Question #1\n",
    "What's the version of NumPy that you installed?"
   ]
  },
  {
   "cell_type": "code",
   "execution_count": 1,
   "id": "a8670569-1c4d-42e5-b7ca-3ef3069832dc",
   "metadata": {},
   "outputs": [
    {
     "name": "stdout",
     "output_type": "stream",
     "text": [
      "Numpy version: 1.20.3\n"
     ]
    }
   ],
   "source": [
    "# answer to question #1\n",
    "\n",
    "import numpy as np\n",
    "print('Numpy version: {}'.format(np.__version__))"
   ]
  },
  {
   "cell_type": "markdown",
   "id": "fdf03e6e-7ee9-4d7d-a188-3b79e5a14cdd",
   "metadata": {},
   "source": [
    "### Question #2\n",
    "What's the version of Pandas?"
   ]
  },
  {
   "cell_type": "code",
   "execution_count": 2,
   "id": "da535cc5-0d06-4067-9157-f4e47e6dda62",
   "metadata": {},
   "outputs": [
    {
     "name": "stdout",
     "output_type": "stream",
     "text": [
      "Pandas version: 1.3.2\n"
     ]
    }
   ],
   "source": [
    "# answer to question #2\n",
    "\n",
    "import pandas as pd\n",
    "print('Pandas version: {}'.format(pd.__version__))"
   ]
  },
  {
   "cell_type": "markdown",
   "id": "3f0bcbde-fa26-40fe-b3e1-f7da598af826",
   "metadata": {
    "tags": []
   },
   "source": [
    "### Question #3\n",
    "What's the average price of BMW cars in the dataset?"
   ]
  },
  {
   "cell_type": "code",
   "execution_count": 3,
   "id": "552c700b-53de-480e-9f6a-acd2c4135c78",
   "metadata": {},
   "outputs": [
    {
     "name": "stdout",
     "output_type": "stream",
     "text": [
      "Average price of BMW cars in dataset: 61546.76347305389\n"
     ]
    }
   ],
   "source": [
    "# answer to question #3\n",
    "\n",
    "df = pd.read_csv('data.csv')\n",
    "df_subset_BMW = df[ df['Make']=='BMW' ]\n",
    "print('Average price of BMW cars in dataset: {}'.format(df_subset_BMW['MSRP'].mean()))"
   ]
  },
  {
   "cell_type": "markdown",
   "id": "06b958c2-0fe5-4a0f-8ff1-e126fbf6d5a4",
   "metadata": {
    "tags": []
   },
   "source": [
    "### Question #4\n",
    "Select a subset of cars after year 2015 (inclusive, i.e. 2015 and after). How many of them have missing values for Engine HP?"
   ]
  },
  {
   "cell_type": "code",
   "execution_count": 4,
   "id": "cc5bcb77-29b4-48e6-9b6b-460545ca1097",
   "metadata": {},
   "outputs": [
    {
     "name": "stdout",
     "output_type": "stream",
     "text": [
      "Missing values count in 'Engine HP' column for cars manufactured in 2015 & later: 51\n"
     ]
    }
   ],
   "source": [
    "# answer to question #4\n",
    "\n",
    "df_subset_2015above = df[ df['Year'] >= 2015 ]\n",
    "print(\"Missing values count in 'Engine HP' column for cars manufactured in 2015 & later: {}\".format(df_subset_2015above['Engine HP'].isnull().sum()))"
   ]
  },
  {
   "cell_type": "markdown",
   "id": "8aa4067e-e9cc-426c-bc18-f0afdaa58941",
   "metadata": {
    "tags": []
   },
   "source": [
    "### Question #5\n",
    "- Calculate the average \"Engine HP\" in the dataset.\n",
    "- Use the fillna method and to fill the missing values in \"Engine HP\" with the mean value from the previous step.\n",
    "- Now, calcualte the average of \"Engine HP\" again.\n",
    "- Has it changed?\n",
    "\n",
    "Round both means before answering this questions. You can use the _round_ function for that:\n",
    "```python\n",
    "print(round(mean_hp_before))\n",
    "print(round(mean_hp_after))\n",
    "```"
   ]
  },
  {
   "cell_type": "code",
   "execution_count": 5,
   "id": "db979c58-3d98-4f98-a12e-e8021729bd6d",
   "metadata": {},
   "outputs": [
    {
     "name": "stdout",
     "output_type": "stream",
     "text": [
      "Average 'Engine HP' before: 249.38607007176023\n",
      "Average 'Engine HP' after:  249.38607007176\n",
      "True\n"
     ]
    }
   ],
   "source": [
    "# answer to question #5\n",
    "\n",
    "mean_hp_before  = df['Engine HP'].mean()\n",
    "df['Engine HP'] = df['Engine HP'].fillna(mean_hp_before)\n",
    "mean_hp_after   = df['Engine HP'].mean()\n",
    "\n",
    "print(\"Average 'Engine HP' before: {}\".format(mean_hp_before))\n",
    "print(\"Average 'Engine HP' after:  {}\".format(mean_hp_after))\n",
    "print(round(mean_hp_before) == round(mean_hp_after))"
   ]
  },
  {
   "cell_type": "markdown",
   "id": "6e0224ee-ef23-4515-8bfa-92d0c668552c",
   "metadata": {
    "tags": []
   },
   "source": [
    "### Question #6\n",
    "- Select all the \"Rolls-Royce\" cars from the dataset.\n",
    "- Select only columns \"Engine HP\", \"Engine Cylinders\", \"highway MPG\".\n",
    "- Now drop all duplicated rows using _drop_duplicates_ method (you should get a dataframe with 7 rows).\n",
    "- Get the underlying NumPy array.\n",
    "- Compute matrix-matrix multiplication between the transpose of _X_ and _X_. To get the transpose, use _X.T_. Let's call the result _XTX_.\n",
    "- Invert _XTX_.\n",
    "- What's the sum of all the elements of the result?\n",
    "\n",
    "Hint: if the result is negative, re-read the task one more time"
   ]
  },
  {
   "cell_type": "code",
   "execution_count": 6,
   "id": "fd6ff76d-b274-4592-a5d1-d667f54470d0",
   "metadata": {},
   "outputs": [
    {
     "data": {
      "text/plain": [
       "0.032212320677486195"
      ]
     },
     "execution_count": 6,
     "metadata": {},
     "output_type": "execute_result"
    }
   ],
   "source": [
    "# answer to question #6: approach 1\n",
    "\n",
    "df_subset_rollsroyce = df[ df['Make'] == 'Rolls-Royce' ]\n",
    "X = df_subset_rollsroyce[['Engine HP', 'Engine Cylinders', 'highway MPG']].drop_duplicates().to_numpy()\n",
    "# XTX = X.dot(X.T)\n",
    "XTX = (X.T).dot(X)\n",
    "XTX_inverse = np.linalg.inv(XTX)\n",
    "XTX_inverse.sum()"
   ]
  },
  {
   "cell_type": "code",
   "execution_count": 7,
   "id": "1aced619-c012-493f-817e-ffea1c3783aa",
   "metadata": {},
   "outputs": [],
   "source": [
    "# # answer to question #6: approach 2\n",
    "\n",
    "# def vector_vector_multiplication(u, v):\n",
    "#     assert u.shape[0] == v.shape[0]\n",
    "    \n",
    "#     n = u.shape[0]\n",
    "    \n",
    "#     result = 0.0\n",
    "\n",
    "#     for i in range(n):\n",
    "#         result = result + u[i] * v[i]\n",
    "    \n",
    "#     return result\n",
    "\n",
    "\n",
    "# def matrix_vector_multiplication(U, v):\n",
    "#     assert U.shape[1] == v.shape[0]\n",
    "    \n",
    "#     num_rows = U.shape[0]\n",
    "    \n",
    "#     result = np.zeros(num_rows)\n",
    "    \n",
    "#     for i in range(num_rows):\n",
    "#         result[i] = vector_vector_multiplication(U[i], v)\n",
    "    \n",
    "#     return result\n",
    "\n",
    "\n",
    "# def matrix_matrix_multiplication(U, V):\n",
    "#     assert U.shape[1] == V.shape[0]\n",
    "    \n",
    "#     num_rows = U.shape[0]\n",
    "#     num_cols = V.shape[1]\n",
    "    \n",
    "#     result = np.zeros((num_rows, num_cols))\n",
    "    \n",
    "#     for i in range(num_cols):\n",
    "#         vi = V[:, i]\n",
    "#         Uvi = matrix_vector_multiplication(U, vi)\n",
    "#         result[:, i] = Uvi\n",
    "    \n",
    "#     return result\n",
    "\n",
    "\n",
    "# df_subset_rollsroyce = df[ df['Make'] == 'Rolls-Royce' ]\n",
    "# X = df_subset_rollsroyce[['Engine HP', 'Engine Cylinders', 'highway MPG']].drop_duplicates().to_numpy()\n",
    "# XTX = matrix_matrix_multiplication(X.T, X)\n",
    "# XTX_inverse = np.linalg.inv(XTX)\n",
    "# XTX_inverse.sum()"
   ]
  },
  {
   "cell_type": "markdown",
   "id": "44faff11-cd10-4679-b392-cebc7efb4d6e",
   "metadata": {
    "tags": []
   },
   "source": [
    "### Question #7\n",
    "- Create an array _y_ with values _[1000, 1100, 900, 1200, 1000, 850, 1300]_.\n",
    "- Multiply the inverse of _XTX_ with the transpose of _X_, and then multiply the result by _y_. Call the result _w_.\n",
    "- What's the value of the first element of _w_?.\n",
    "\n",
    "> **Note:** You just implemented linear regression. We'll talk about it in the next lesson."
   ]
  },
  {
   "cell_type": "code",
   "execution_count": 8,
   "id": "07f0fafc-eca9-4ca7-ab0e-e7bcaf2946af",
   "metadata": {},
   "outputs": [
    {
     "data": {
      "text/plain": [
       "array([ 0.19989598, 31.02612262, 31.65378877])"
      ]
     },
     "execution_count": 8,
     "metadata": {},
     "output_type": "execute_result"
    }
   ],
   "source": [
    "# answer to question #7\n",
    "\n",
    "y = [1000, 1100, 900, 1200, 1000, 850, 1300]\n",
    "w = (XTX_inverse.dot(X.T)).dot(y)\n",
    "w"
   ]
  },
  {
   "cell_type": "code",
   "execution_count": 9,
   "id": "1e7ccfe2-4c0f-4866-baee-f2d55a0f8c9a",
   "metadata": {},
   "outputs": [
    {
     "data": {
      "text/plain": [
       "0.19989598183186175"
      ]
     },
     "execution_count": 9,
     "metadata": {},
     "output_type": "execute_result"
    }
   ],
   "source": [
    "w[0]"
   ]
  },
  {
   "cell_type": "code",
   "execution_count": null,
   "id": "60152306-7ef2-46c6-9dcb-987c194fd32b",
   "metadata": {},
   "outputs": [],
   "source": []
  }
 ],
 "metadata": {
  "kernelspec": {
   "display_name": "Python 3 (ipykernel)",
   "language": "python",
   "name": "python3"
  },
  "language_info": {
   "codemirror_mode": {
    "name": "ipython",
    "version": 3
   },
   "file_extension": ".py",
   "mimetype": "text/x-python",
   "name": "python",
   "nbconvert_exporter": "python",
   "pygments_lexer": "ipython3",
   "version": "3.7.11"
  }
 },
 "nbformat": 4,
 "nbformat_minor": 5
}

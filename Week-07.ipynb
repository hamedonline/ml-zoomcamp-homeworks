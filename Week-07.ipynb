{
 "cells": [
  {
   "cell_type": "markdown",
   "metadata": {},
   "source": [
    "# Machine Learning Zoomcamp Homeworks"
   ]
  },
  {
   "cell_type": "markdown",
   "metadata": {},
   "source": [
    "## Week 7\n",
    "Midway through the course, this week was allocated to developing the __midterm project__. The criteria for a complete project was as follows:\n",
    "\n",
    "- Thinking of a problem that's interesting for you and finding a dataset for that\n",
    "- Describing this problem and explaining how a model could be used\n",
    "- Preparing the data and doing EDA, analyzing important features\n",
    "- Training multiple models, tuning their performance and selecting the best model\n",
    "- Exporting the notebook into a script\n",
    "- Putting your model into a web service and deploying it locally with docker\n",
    "- Bonus points for deploying the service to the cloud\n",
    "\n",
    "Depending on interpretation, the titles would seem pretty extensive and broad; that's why I decided to dedicate an entire separate repo for this, which could as well grant the freedom to go beyond the scope of defined criterions. After all, covering all the requirements and explaining everything step by step could be helpful to others as well, regardless of deadline constraints. I named this dedicated repo as [\"Machine Learning Workflow - From EDA to Production\"](https://github.com/hamedonline/ml-workflow) and hope that anyone with any level of ML knowledge can benefit from it.\n",
    "\n",
    "Direct link to the repo:<br>\n",
    "[https://github.com/hamedonline/ml-workflow](https://github.com/hamedonline/ml-workflow)"
   ]
  }
 ],
 "metadata": {
  "language_info": {
   "name": "python"
  },
  "orig_nbformat": 4
 },
 "nbformat": 4,
 "nbformat_minor": 2
}

{
 "cells": [
  {
   "cell_type": "markdown",
   "metadata": {},
   "source": [
    "Midway through the course, this week was allocated to midterm project. The criteria for a complete midterm project was pretty extensive and broad:\n",
    "\n",
    "- Thinking of a problem that's interesting for you and finding a dataset for that\n",
    "- Describing this problem and explaining how a model could be used\n",
    "- Preparing the data and doing EDA, analyzing important features\n",
    "- Training multiple models, tuning their performance and selecting the best model\n",
    "- Exporting the notebook into a script\n",
    "- Putting your model into a web service and deploying it locally with docker\n",
    "- Bonus points for deploying the service to the cloud\n",
    "\n",
    "That's why I decided to dedicate an entire separate repo for this, which could as well have the freedom to go beyond the scope of defined criterions. After all, doing all these and explaining everything step by step would be helpful to others as well, regardless of deadline constraints. I named this dedicated repo as [\"Machine Learning Workflow - From EDA to Production\"](https://github.com/hamedonline/ml-workflow).\n",
    "\n",
    "You can find it here:<br>\n",
    "https://github.com/hamedonline/ml-workflow"
   ]
  }
 ],
 "metadata": {
  "language_info": {
   "name": "python"
  },
  "orig_nbformat": 4
 },
 "nbformat": 4,
 "nbformat_minor": 2
}

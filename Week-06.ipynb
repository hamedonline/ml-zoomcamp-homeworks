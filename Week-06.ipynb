{
 "cells": [
  {
   "cell_type": "markdown",
   "metadata": {},
   "source": [
    "## 6.10 Homework\n",
    "\n",
    "The goal of this homework is to create a tree-based regression model for prediction apartment prices (column `'price'`).\n",
    "\n",
    "In this homework we'll again use the New York City Airbnb Open Data dataset - the same one we used in homework 2 and 3.\n",
    "\n",
    "You can take it from [Kaggle](https://www.kaggle.com/dgomonov/new-york-city-airbnb-open-data?select=AB_NYC_2019.csv)\n",
    "or download from [here](https://raw.githubusercontent.com/alexeygrigorev/datasets/master/AB_NYC_2019.csv)\n",
    "if you don't want to sign up to Kaggle.\n",
    "\n",
    "Let's load the data:"
   ]
  },
  {
   "cell_type": "code",
   "execution_count": 1,
   "metadata": {},
   "outputs": [],
   "source": [
    "import pandas as pd\n",
    "import numpy as np\n",
    "\n",
    "import matplotlib.pyplot as plt\n",
    "import seaborn as sns\n",
    "\n",
    "%matplotlib inline"
   ]
  },
  {
   "cell_type": "code",
   "execution_count": 2,
   "metadata": {},
   "outputs": [],
   "source": [
    "columns = [\n",
    "    'neighbourhood_group', 'room_type', 'latitude', 'longitude',\n",
    "    'minimum_nights', 'number_of_reviews','reviews_per_month',\n",
    "    'calculated_host_listings_count', 'availability_365',\n",
    "    'price'\n",
    "]\n",
    "\n",
    "df = pd.read_csv('data\\AB_NYC_2019.csv', usecols=columns)\n",
    "df.reviews_per_month = df.reviews_per_month.fillna(0)\n"
   ]
  },
  {
   "cell_type": "markdown",
   "metadata": {},
   "source": [
    "* Apply the log tranform to `price`\n",
    "* Do train/validation/test split with 60%/20%/20% distribution. \n",
    "* Use the `train_test_split` function and set the `random_state` parameter to 1"
   ]
  },
  {
   "cell_type": "code",
   "execution_count": 3,
   "metadata": {},
   "outputs": [
    {
     "name": "stdout",
     "output_type": "stream",
     "text": [
      "48895 29337 9779 9779\n"
     ]
    }
   ],
   "source": [
    "from sklearn.model_selection import train_test_split\n",
    "\n",
    "\n",
    "# data split\n",
    "random_seed = 1\n",
    "df_train_full, df_test = train_test_split(df, test_size=0.2, random_state=random_seed)\n",
    "df_train, df_valid = train_test_split(df_train_full, test_size=0.25, random_state=random_seed)\n",
    "\n",
    "# create target values for each split by log transforming the \"price\" column\n",
    "y_train = np.log1p(df_train['price'].to_numpy())\n",
    "y_valid = np.log1p(df_valid['price'].to_numpy())\n",
    "y_test  = np.log1p(df_test['price'].to_numpy())\n",
    "# important note: we need to transfer back target values later after inference prediction\n",
    "# we use np.expm1() to do so\n",
    "\n",
    "# don't forget to drop target column \"price\" from feature dataframes\n",
    "del df_train['price']\n",
    "del df_valid['price']\n",
    "del df_test['price']\n",
    "\n",
    "print(len(df), len(df_train), len(df_valid), len(df_test))\n"
   ]
  },
  {
   "cell_type": "markdown",
   "metadata": {},
   "source": [
    "Now, use `DictVectorizer` to turn train and validation into matrices:"
   ]
  },
  {
   "cell_type": "code",
   "execution_count": 4,
   "metadata": {},
   "outputs": [],
   "source": [
    "from sklearn.feature_extraction import DictVectorizer\n",
    "\n",
    "\n",
    "dv = DictVectorizer(sparse=False)\n",
    "train_dicts = df_train.to_dict(orient='records')\n",
    "X_train = dv.fit_transform(train_dicts)\n",
    "\n",
    "val_dicts = df_valid.to_dict(orient='records')\n",
    "X_valid = dv.transform(val_dicts)\n",
    "\n",
    "test_dicts = df_test.to_dict(orient='records')\n",
    "X_test = dv.transform(test_dicts)\n"
   ]
  },
  {
   "cell_type": "markdown",
   "metadata": {},
   "source": [
    "## Question 1\n",
    "\n",
    "Let's train a decision tree regressor to predict the price variable. \n",
    "\n",
    "* Train a model with `max_depth=1`"
   ]
  },
  {
   "cell_type": "code",
   "execution_count": 5,
   "metadata": {},
   "outputs": [
    {
     "data": {
      "text/plain": [
       "DecisionTreeRegressor(max_depth=1)"
      ]
     },
     "execution_count": 5,
     "metadata": {},
     "output_type": "execute_result"
    }
   ],
   "source": [
    "# answer to question #1\n",
    "\n",
    "from sklearn.tree import DecisionTreeRegressor\n",
    "\n",
    "\n",
    "model_dt = DecisionTreeRegressor(max_depth=1)\n",
    "model_dt.fit(X_train, y_train)\n"
   ]
  },
  {
   "cell_type": "markdown",
   "metadata": {},
   "source": [
    "Which feature is used for splitting the data?\n",
    "\n",
    "* `room_type`\n",
    "* `neighbourhood_group`\n",
    "* `number_of_reviews`\n",
    "* `reviews_per_month`"
   ]
  },
  {
   "cell_type": "code",
   "execution_count": 6,
   "metadata": {},
   "outputs": [
    {
     "name": "stdout",
     "output_type": "stream",
     "text": [
      "|--- room_type=Entire home/apt <= 0.50\n",
      "|   |--- value: [4.29]\n",
      "|--- room_type=Entire home/apt >  0.50\n",
      "|   |--- value: [5.15]\n",
      "\n"
     ]
    }
   ],
   "source": [
    "# answer to question #1 (continued)\n",
    "\n",
    "from sklearn.tree import export_text\n",
    "\n",
    "\n",
    "# print(export_text(model_dt, feature_names=dv.get_feature_names()))  # use this instead of below line if you have (sklearn < 1.0) installed\n",
    "print(export_text(model_dt, feature_names=list(dv.get_feature_names_out())))\n"
   ]
  },
  {
   "cell_type": "markdown",
   "metadata": {},
   "source": [
    "The tree structure above makes it clear that __'room_type'__ feature is used for splitting the best model with depth=1; Also Note that among categorical values in this column, __'Entire home/apt'__ is better suited for the model tree with depth=1 (and obviously that is the chosen column)."
   ]
  },
  {
   "cell_type": "markdown",
   "metadata": {},
   "source": [
    "## Question 2\n",
    "\n",
    "Train a random forest model with these parameters:\n",
    "\n",
    "* `n_estimators=10`\n",
    "* `random_state=1`\n",
    "* `n_jobs=-1`  (optional - to make training faster)"
   ]
  },
  {
   "cell_type": "code",
   "execution_count": 7,
   "metadata": {},
   "outputs": [
    {
     "data": {
      "text/plain": [
       "RandomForestRegressor(n_estimators=10, n_jobs=-1, random_state=1)"
      ]
     },
     "execution_count": 7,
     "metadata": {},
     "output_type": "execute_result"
    }
   ],
   "source": [
    "# answer to question #2\n",
    "\n",
    "from sklearn.ensemble import RandomForestRegressor\n",
    "\n",
    "\n",
    "model_rf = RandomForestRegressor(n_estimators=10, random_state=1, n_jobs=-1)\n",
    "model_rf.fit(X_train, y_train)"
   ]
  },
  {
   "cell_type": "markdown",
   "metadata": {},
   "source": [
    "What's the RMSE of this model on validation?\n",
    "\n",
    "* 0.059\n",
    "* 0.259\n",
    "* 0.459\n",
    "* 0.659"
   ]
  },
  {
   "cell_type": "code",
   "execution_count": 8,
   "metadata": {},
   "outputs": [
    {
     "name": "stdout",
     "output_type": "stream",
     "text": [
      "Root Mean Squared Error: 0.462\n"
     ]
    }
   ],
   "source": [
    "# answer to question #2 (continued)\n",
    "\n",
    "import math\n",
    "from sklearn.metrics import mean_squared_error\n",
    "\n",
    "\n",
    "y_pred = model_rf.predict(X_valid)\n",
    "\n",
    "# we need to calculate the root of MSE value in order to have RMSE\n",
    "rmse = math.sqrt(mean_squared_error(y_valid, y_pred))\n",
    "print('Root Mean Squared Error:', round(rmse, 3))\n"
   ]
  },
  {
   "cell_type": "markdown",
   "metadata": {},
   "source": [
    "The closest value to the actual calculated RMSE among the answers is: __0.459__"
   ]
  },
  {
   "cell_type": "markdown",
   "metadata": {},
   "source": [
    "## Question 3\n",
    "\n",
    "Now let's experiment with the `n_estimators` parameter\n",
    "\n",
    "* Try different values of this parameter from 10 to 200 with step 10\n",
    "* Set `random_state` to `1`\n",
    "* Evaluate the model on the validation dataset"
   ]
  },
  {
   "cell_type": "code",
   "execution_count": 9,
   "metadata": {},
   "outputs": [],
   "source": [
    "# answer to question #3\n",
    "\n",
    "estimators = range(10, 210, 10)\n",
    "\n",
    "scores = []\n",
    "for estimator in estimators:\n",
    "    model_rf = RandomForestRegressor(n_estimators=estimator, random_state=1, n_jobs=-1)\n",
    "    model_rf.fit(X_train, y_train)\n",
    "    y_pred = model_rf.predict(X_valid)\n",
    "    rmse = math.sqrt(mean_squared_error(y_valid, y_pred))\n",
    "    scores.append((estimator, rmse))\n"
   ]
  },
  {
   "cell_type": "markdown",
   "metadata": {},
   "source": [
    "After which value of `n_estimators` does RMSE stop improving?\n",
    "\n",
    "- 10\n",
    "- 50\n",
    "- 70\n",
    "- 120"
   ]
  },
  {
   "cell_type": "code",
   "execution_count": 10,
   "metadata": {},
   "outputs": [
    {
     "data": {
      "image/png": "[encoded data removed]",
      "text/plain": [
       "<Figure size 432x504 with 1 Axes>"
      ]
     },
     "metadata": {
      "needs_background": "light"
     },
     "output_type": "display_data"
    }
   ],
   "source": [
    "# answer to question #3 (continued)\n",
    "\n",
    "scores_df = pd.DataFrame(scores, columns=['n_estimators', 'rmse'])\n",
    "\n",
    "plt.figure(figsize=(6, 7))\n",
    "plt.plot(scores_df['n_estimators'], scores_df['rmse'])\n",
    "plt.xlabel('Number of Estimators')\n",
    "plt.ylabel('RMSE')\n",
    "plt.show()\n"
   ]
  },
  {
   "cell_type": "markdown",
   "metadata": {},
   "source": [
    "Although overall RMSE seems to be improving, we can notice that around the approximate range of 120 to 130, RMSE does not improve (values are slighltly up). Therefore __120__ is the correct answer."
   ]
  },
  {
   "cell_type": "markdown",
   "metadata": {},
   "source": [
    "## Question 4\n",
    "\n",
    "Let's select the best `max_depth`:\n",
    "\n",
    "* Try different values of `max_depth`: `[10, 15, 20, 25]`\n",
    "* For each of these values, try different values of `n_estimators` from 10 till 200 (with step 10)\n",
    "* Fix the random seed: `random_state=1`"
   ]
  },
  {
   "cell_type": "code",
   "execution_count": 11,
   "metadata": {},
   "outputs": [],
   "source": [
    "# answer to question #4\n",
    "\n",
    "max_depth_values = [10, 15, 20, 25]\n",
    "estimator_values = list(range(10, 210, 10))\n",
    "\n",
    "scores = []\n",
    "for max_depth in max_depth_values:\n",
    "    for estimator in estimator_values:\n",
    "        model_rf = RandomForestRegressor(n_estimators=estimator, max_depth=max_depth, random_state=1, n_jobs=-1)\n",
    "        model_rf.fit(X_train, y_train)\n",
    "        y_pred = model_rf.predict(X_valid)\n",
    "        rmse = math.sqrt(mean_squared_error(y_valid, y_pred))\n",
    "        scores.append((max_depth, estimator, rmse))\n"
   ]
  },
  {
   "cell_type": "markdown",
   "metadata": {},
   "source": [
    "What's the best `max_depth`:\n",
    "\n",
    "* 10\n",
    "* 15\n",
    "* 20\n",
    "* 25\n",
    "\n",
    "Bonus question (not graded):\n",
    "\n",
    "Will the answer be different if we change the seed for the model?"
   ]
  },
  {
   "cell_type": "code",
   "execution_count": 12,
   "metadata": {},
   "outputs": [
    {
     "data": {
      "image/png": "[encoded data removed]",
      "text/plain": [
       "<Figure size 432x288 with 1 Axes>"
      ]
     },
     "metadata": {
      "needs_background": "light"
     },
     "output_type": "display_data"
    }
   ],
   "source": [
    "# answer to question #4 (continued)\n",
    "\n",
    "scores_df = pd.DataFrame(scores, columns=['max_depth', 'n_estimators', 'rmse'])\n",
    "\n",
    "for max_depth in max_depth_values:\n",
    "    df_subset = scores_df[scores_df['max_depth'] == max_depth]\n",
    "    plt.plot(df_subset['n_estimators'], df_subset['rmse'], label=f\"max_depth={max_depth}\")\n",
    "\n",
    "plt.legend()\n",
    "plt.show()\n"
   ]
  },
  {
   "cell_type": "markdown",
   "metadata": {},
   "source": [
    "It is obvious from the plot above that max_depth value of __15__ leads to lower (and better) RMSE values.<br>\n",
    "Coming to the bonus question, I checked for two different random seeds (see below) and the result remained the same. __So, changing the random seed value does not change the outcome in this case.__"
   ]
  },
  {
   "cell_type": "code",
   "execution_count": 13,
   "metadata": {},
   "outputs": [],
   "source": [
    "# answer to question #4 (continued)\n",
    "\n",
    "def bonus_question(random_seed=None):\n",
    "    max_depth_values = [10, 15, 20, 25]\n",
    "    estimator_values = list(range(10, 210, 10))\n",
    "\n",
    "    scores = []\n",
    "    for max_depth in max_depth_values:\n",
    "        for estimator in estimator_values:\n",
    "            model_rf = RandomForestRegressor(n_estimators=estimator, max_depth=max_depth, random_state=random_seed, n_jobs=-1)\n",
    "            model_rf.fit(X_train, y_train)\n",
    "            y_pred = model_rf.predict(X_valid)\n",
    "            rmse = math.sqrt(mean_squared_error(y_valid, y_pred))\n",
    "            scores.append((max_depth, estimator, rmse))\n",
    "\n",
    "    scores_df = pd.DataFrame(scores, columns=['max_depth', 'n_estimators', 'rmse'])\n",
    "    for max_depth in max_depth_values:\n",
    "        df_subset = scores_df[scores_df['max_depth'] == max_depth]\n",
    "        plt.plot(df_subset['n_estimators'], df_subset['rmse'],\n",
    "                label=f\"max_depth={max_depth}\")\n",
    "    plt.legend()\n",
    "    plt.show()\n"
   ]
  },
  {
   "cell_type": "code",
   "execution_count": 14,
   "metadata": {},
   "outputs": [
    {
     "data": {
      "image/png": "[encoded data removed]",
      "text/plain": [
       "<Figure size 432x288 with 1 Axes>"
      ]
     },
     "metadata": {
      "needs_background": "light"
     },
     "output_type": "display_data"
    }
   ],
   "source": [
    "# answer to question #4 (continued)\n",
    "\n",
    "bonus_question(random_seed=1589)"
   ]
  },
  {
   "cell_type": "code",
   "execution_count": 15,
   "metadata": {},
   "outputs": [
    {
     "data": {
      "image/png": "[encoded data removed]",
      "text/plain": [
       "<Figure size 432x288 with 1 Axes>"
      ]
     },
     "metadata": {
      "needs_background": "light"
     },
     "output_type": "display_data"
    }
   ],
   "source": [
    "# answer to question #4 (continued)\n",
    "\n",
    "bonus_question(random_seed=6813)"
   ]
  },
  {
   "cell_type": "markdown",
   "metadata": {},
   "source": [
    "## Question 5\n",
    "\n",
    "We can extract feature importance information from tree-based models. \n",
    "\n",
    "At each step of the decision tree learning algorith, it finds the best split. \n",
    "When doint it, we can calculate \"gain\" - the reduction in impurity before and after the split. \n",
    "This gain is quite useful in understanding what are the imporatant features \n",
    "for tree-based models.\n",
    "\n",
    "In Scikit-Learn, tree-based models contain this information in the `feature_importances_` field. \n",
    "\n",
    "For this homework question, we'll find the most important feature:\n",
    "\n",
    "* Train the model with these parametes:\n",
    "    * `n_estimators=10`,\n",
    "    * `max_depth=20`,\n",
    "    * `random_state=1`,\n",
    "    * `n_jobs=-1` (optional)\n",
    "* Get the feature importance information from this model"
   ]
  },
  {
   "cell_type": "code",
   "execution_count": 16,
   "metadata": {},
   "outputs": [
    {
     "data": {
      "text/plain": [
       "RandomForestRegressor(max_depth=20, n_estimators=10, n_jobs=-1, random_state=1)"
      ]
     },
     "execution_count": 16,
     "metadata": {},
     "output_type": "execute_result"
    }
   ],
   "source": [
    "# answer to question #5\n",
    "\n",
    "model_rf = RandomForestRegressor(n_estimators=10, max_depth=20, random_state=1, n_jobs=-1)\n",
    "model_rf.fit(X_train, y_train)\n"
   ]
  },
  {
   "cell_type": "markdown",
   "metadata": {},
   "source": [
    "What's the most important feature? \n",
    "\n",
    "* `neighbourhood_group=Manhattan`\n",
    "* `room_type=Entire home/apt`\n",
    "* `longitude`\n",
    "* `latitude`"
   ]
  },
  {
   "cell_type": "code",
   "execution_count": 17,
   "metadata": {},
   "outputs": [
    {
     "data": {
      "image/png": "[encoded data removed]",
      "text/plain": [
       "<Figure size 720x576 with 1 Axes>"
      ]
     },
     "metadata": {
      "needs_background": "light"
     },
     "output_type": "display_data"
    }
   ],
   "source": [
    "# answer to question #5 (continued)\n",
    "\n",
    "feature_names = dv.feature_names_\n",
    "importances = model_rf.feature_importances_\n",
    "indices = np.argsort(importances)  # sorted indices of features based on importance value\n",
    "\n",
    "plt.figure(figsize=(10, 8))\n",
    "plt.title('Feature Importances')\n",
    "plt.barh(range(len(indices)), importances[indices])\n",
    "plt.yticks(range(len(indices)), [feature_names[i] for i in indices])\n",
    "plt.xlabel('Relative Feature Importance')\n",
    "plt.ylabel('Feature Name')\n",
    "plt.show()\n"
   ]
  },
  {
   "cell_type": "markdown",
   "metadata": {},
   "source": [
    "Looking at above plot we see that the feature __\"room_type=Entire home/apt\"__ gets the highest relative importance value among all features for the specified random forest model."
   ]
  },
  {
   "cell_type": "markdown",
   "metadata": {},
   "source": [
    "## Question 6"
   ]
  },
  {
   "cell_type": "markdown",
   "metadata": {},
   "source": [
    "Now let's train an XGBoost model! For this question, we'll tune the `eta` parameter\n",
    "\n",
    "* Install XGBoost\n",
    "* Create DMatrix for train and validation\n",
    "* Create a watchlist\n",
    "* Train a model with these parameters for 100 rounds:\n",
    "\n",
    "```\n",
    "xgb_params = {\n",
    "    'eta': 0.3, \n",
    "    'max_depth': 6,\n",
    "    'min_child_weight': 1,\n",
    "    \n",
    "    'objective': 'reg:squarederror',\n",
    "    'nthread': 8,\n",
    "    \n",
    "    'seed': 1,\n",
    "    'verbosity': 1,\n",
    "}\n",
    "```"
   ]
  },
  {
   "cell_type": "code",
   "execution_count": 18,
   "metadata": {},
   "outputs": [
    {
     "name": "stdout",
     "output_type": "stream",
     "text": [
      "[0]\ttrain-rmse:3.02752\tvalid-rmse:3.02415\n",
      "[5]\ttrain-rmse:0.67490\tvalid-rmse:0.67752\n",
      "[10]\ttrain-rmse:0.43912\tvalid-rmse:0.44981\n",
      "[15]\ttrain-rmse:0.42259\tvalid-rmse:0.43827\n",
      "[20]\ttrain-rmse:0.41716\tvalid-rmse:0.43691\n",
      "[25]\ttrain-rmse:0.41365\tvalid-rmse:0.43621\n",
      "[30]\ttrain-rmse:0.40712\tvalid-rmse:0.43543\n",
      "[35]\ttrain-rmse:0.40444\tvalid-rmse:0.43510\n",
      "[40]\ttrain-rmse:0.40103\tvalid-rmse:0.43466\n",
      "[45]\ttrain-rmse:0.39723\tvalid-rmse:0.43371\n",
      "[50]\ttrain-rmse:0.39446\tvalid-rmse:0.43384\n",
      "[55]\ttrain-rmse:0.39129\tvalid-rmse:0.43378\n",
      "[60]\ttrain-rmse:0.38743\tvalid-rmse:0.43404\n",
      "[65]\ttrain-rmse:0.38421\tvalid-rmse:0.43450\n",
      "[70]\ttrain-rmse:0.38117\tvalid-rmse:0.43467\n",
      "[75]\ttrain-rmse:0.37801\tvalid-rmse:0.43489\n",
      "[80]\ttrain-rmse:0.37668\tvalid-rmse:0.43526\n",
      "[85]\ttrain-rmse:0.37259\tvalid-rmse:0.43537\n",
      "[90]\ttrain-rmse:0.36998\tvalid-rmse:0.43539\n",
      "[95]\ttrain-rmse:0.36742\tvalid-rmse:0.43579\n",
      "[99]\ttrain-rmse:0.36478\tvalid-rmse:0.43621\n"
     ]
    }
   ],
   "source": [
    "# answer to question #6\n",
    "\n",
    "import xgboost as xgb\n",
    "\n",
    "\n",
    "# feature_names = dv.get_feature_names()  # use this instead of below line if you have (sklearn < 1.0) installed\n",
    "feature_names = list(dv.get_feature_names_out())\n",
    "\n",
    "dtrain = xgb.DMatrix(X_train, label=y_train, feature_names=feature_names)\n",
    "dvalid = xgb.DMatrix(X_valid, label=y_valid, feature_names=feature_names)\n",
    "watchlist = [(dtrain, 'train'), (dvalid, 'valid')]\n",
    "\n",
    "xgb_params = {\n",
    "    'eta': 0.3,\n",
    "    'max_depth': 6,\n",
    "    'min_child_weight': 1,\n",
    "\n",
    "    'objective': 'reg:squarederror',\n",
    "    'nthread': 8,\n",
    "\n",
    "    'seed': 1,\n",
    "    'verbosity': 1,\n",
    "}\n",
    "\n",
    "model_xgb = xgb.train(xgb_params, dtrain, num_boost_round=100,\n",
    "                      verbose_eval=5,\n",
    "                      evals=watchlist)\n"
   ]
  },
  {
   "cell_type": "markdown",
   "metadata": {},
   "source": [
    "Now change `eta` first to `0.1` and then to `0.01`"
   ]
  },
  {
   "cell_type": "code",
   "execution_count": 19,
   "metadata": {},
   "outputs": [
    {
     "name": "stdout",
     "output_type": "stream",
     "text": [
      "\n",
      "Starting training for eta 0.01:\n",
      "[0]\ttrain-rmse:4.25336\tvalid-rmse:4.25010\n",
      "[5]\ttrain-rmse:4.04779\tvalid-rmse:4.04454\n",
      "[10]\ttrain-rmse:3.85242\tvalid-rmse:3.84921\n",
      "[15]\ttrain-rmse:3.66674\tvalid-rmse:3.66359\n",
      "[20]\ttrain-rmse:3.49030\tvalid-rmse:3.48719\n",
      "[25]\ttrain-rmse:3.32263\tvalid-rmse:3.31956\n",
      "[30]\ttrain-rmse:3.16332\tvalid-rmse:3.16029\n",
      "[35]\ttrain-rmse:3.01196\tvalid-rmse:3.00898\n",
      "[40]\ttrain-rmse:2.86817\tvalid-rmse:2.86533\n",
      "[45]\ttrain-rmse:2.73158\tvalid-rmse:2.72884\n",
      "[50]\ttrain-rmse:2.60185\tvalid-rmse:2.59925\n",
      "[55]\ttrain-rmse:2.47865\tvalid-rmse:2.47612\n",
      "[60]\ttrain-rmse:2.36167\tvalid-rmse:2.35927\n",
      "[65]\ttrain-rmse:2.25061\tvalid-rmse:2.24835\n",
      "[70]\ttrain-rmse:2.14519\tvalid-rmse:2.14303\n",
      "[75]\ttrain-rmse:2.04514\tvalid-rmse:2.04311\n",
      "[80]\ttrain-rmse:1.95022\tvalid-rmse:1.94827\n",
      "[85]\ttrain-rmse:1.86015\tvalid-rmse:1.85833\n",
      "[90]\ttrain-rmse:1.77472\tvalid-rmse:1.77302\n",
      "[95]\ttrain-rmse:1.69373\tvalid-rmse:1.69214\n",
      "[99]\ttrain-rmse:1.63198\tvalid-rmse:1.63045\n",
      "\n",
      "Starting training for eta 0.1:\n",
      "[0]\ttrain-rmse:3.87217\tvalid-rmse:3.86889\n",
      "[5]\ttrain-rmse:2.31905\tvalid-rmse:2.31692\n",
      "[10]\ttrain-rmse:1.41910\tvalid-rmse:1.41786\n",
      "[15]\ttrain-rmse:0.91299\tvalid-rmse:0.91348\n",
      "[20]\ttrain-rmse:0.64528\tvalid-rmse:0.64883\n",
      "[25]\ttrain-rmse:0.51733\tvalid-rmse:0.52364\n",
      "[30]\ttrain-rmse:0.46186\tvalid-rmse:0.47101\n",
      "[35]\ttrain-rmse:0.43843\tvalid-rmse:0.44997\n",
      "[40]\ttrain-rmse:0.42770\tvalid-rmse:0.44150\n",
      "[45]\ttrain-rmse:0.42222\tvalid-rmse:0.43795\n",
      "[50]\ttrain-rmse:0.41868\tvalid-rmse:0.43589\n",
      "[55]\ttrain-rmse:0.41644\tvalid-rmse:0.43515\n",
      "[60]\ttrain-rmse:0.41432\tvalid-rmse:0.43460\n",
      "[65]\ttrain-rmse:0.41226\tvalid-rmse:0.43400\n",
      "[70]\ttrain-rmse:0.41059\tvalid-rmse:0.43361\n",
      "[75]\ttrain-rmse:0.40876\tvalid-rmse:0.43336\n",
      "[80]\ttrain-rmse:0.40747\tvalid-rmse:0.43306\n",
      "[85]\ttrain-rmse:0.40626\tvalid-rmse:0.43299\n",
      "[90]\ttrain-rmse:0.40478\tvalid-rmse:0.43280\n",
      "[95]\ttrain-rmse:0.40406\tvalid-rmse:0.43272\n",
      "[99]\ttrain-rmse:0.40277\tvalid-rmse:0.43250\n",
      "\n",
      "Starting training for eta 0.3:\n",
      "[0]\ttrain-rmse:3.02752\tvalid-rmse:3.02415\n",
      "[5]\ttrain-rmse:0.67490\tvalid-rmse:0.67752\n",
      "[10]\ttrain-rmse:0.43912\tvalid-rmse:0.44981\n",
      "[15]\ttrain-rmse:0.42259\tvalid-rmse:0.43827\n",
      "[20]\ttrain-rmse:0.41716\tvalid-rmse:0.43691\n",
      "[25]\ttrain-rmse:0.41365\tvalid-rmse:0.43621\n",
      "[30]\ttrain-rmse:0.40712\tvalid-rmse:0.43543\n",
      "[35]\ttrain-rmse:0.40444\tvalid-rmse:0.43510\n",
      "[40]\ttrain-rmse:0.40103\tvalid-rmse:0.43466\n",
      "[45]\ttrain-rmse:0.39723\tvalid-rmse:0.43371\n",
      "[50]\ttrain-rmse:0.39446\tvalid-rmse:0.43384\n",
      "[55]\ttrain-rmse:0.39129\tvalid-rmse:0.43378\n",
      "[60]\ttrain-rmse:0.38743\tvalid-rmse:0.43404\n",
      "[65]\ttrain-rmse:0.38421\tvalid-rmse:0.43450\n",
      "[70]\ttrain-rmse:0.38117\tvalid-rmse:0.43467\n",
      "[75]\ttrain-rmse:0.37801\tvalid-rmse:0.43489\n",
      "[80]\ttrain-rmse:0.37668\tvalid-rmse:0.43526\n",
      "[85]\ttrain-rmse:0.37259\tvalid-rmse:0.43537\n",
      "[90]\ttrain-rmse:0.36998\tvalid-rmse:0.43539\n",
      "[95]\ttrain-rmse:0.36742\tvalid-rmse:0.43579\n",
      "[99]\ttrain-rmse:0.36478\tvalid-rmse:0.43621\n"
     ]
    }
   ],
   "source": [
    "# answer to question #6 (continued)\n",
    "\n",
    "eta_values = [0.01, 0.1, 0.3]\n",
    "\n",
    "xgb_scores = []\n",
    "for eta in eta_values:\n",
    "    evals_result = {}\n",
    "    print(f'\\nStarting training for eta {eta}:')\n",
    "    xgb_params = {\n",
    "        'eta': eta,\n",
    "        'max_depth': 6,\n",
    "        'min_child_weight': 1,\n",
    "\n",
    "        'objective': 'reg:squarederror',\n",
    "        'nthread': 8,\n",
    "\n",
    "        'seed': 1,\n",
    "        'verbosity': 1,\n",
    "    }\n",
    "\n",
    "    model_xgb = xgb.train(xgb_params, dtrain, num_boost_round=100,\n",
    "                          verbose_eval=5,\n",
    "                          evals=watchlist,\n",
    "                          evals_result=evals_result)\n",
    "    y_pred = model_xgb.predict(dvalid)\n",
    "    rmse = math.sqrt(mean_squared_error(y_valid, y_pred))\n",
    "    xgb_scores.append((eta, rmse, evals_result))\n"
   ]
  },
  {
   "cell_type": "markdown",
   "metadata": {},
   "source": [
    "Which eta leads to the best RMSE score on the validation dataset?\n",
    "\n",
    "* 0.3\n",
    "* 0.1\n",
    "* 0.01"
   ]
  },
  {
   "cell_type": "markdown",
   "metadata": {},
   "source": [
    "To answer this question, we need to check *\"xgb_scores\"* which we populated during training to find the lowest (and best) RMSE:"
   ]
  },
  {
   "cell_type": "code",
   "execution_count": 20,
   "metadata": {},
   "outputs": [
    {
     "name": "stdout",
     "output_type": "stream",
     "text": [
      "eta: 0.01 \t RMSE: 1.6305\n",
      "eta: 0.1 \t RMSE: 0.4325\n",
      "eta: 0.3 \t RMSE: 0.4362\n"
     ]
    }
   ],
   "source": [
    "# answer to question #6 (continued)\n",
    "\n",
    "for eta, rmse_score in [(item[0], item[1]) for item in xgb_scores]:\n",
    "    print(f'eta: {eta} \\t RMSE: {round(rmse_score, 4)}')\n"
   ]
  },
  {
   "cell_type": "markdown",
   "metadata": {},
   "source": [
    "__eta=0.1__ results in a lower (and better) RMSE score.<br>\n",
    "We can also plot the RMSE values to get a visual confirmation:"
   ]
  },
  {
   "cell_type": "code",
   "execution_count": 21,
   "metadata": {},
   "outputs": [
    {
     "data": {
      "image/png": "[encoded data removed]",
      "text/plain": [
       "<Figure size 576x432 with 1 Axes>"
      ]
     },
     "metadata": {
      "needs_background": "light"
     },
     "output_type": "display_data"
    }
   ],
   "source": [
    "# answer to question #6 (continued)\n",
    "\n",
    "plt.figure(figsize=(8, 6))\n",
    "for eta, scores in zip(eta_values, [item[2]['valid']['rmse'] for item in xgb_scores]):\n",
    "    plt.plot(scores, label=f\"eta={eta}\")\n",
    "\n",
    "plt.legend()\n",
    "plt.show()\n"
   ]
  },
  {
   "cell_type": "markdown",
   "metadata": {},
   "source": [
    "Values for __eta=0.1__ and __eta=0.3__ are pretty close in later stages of training. We need to zoom-in to spot the better one:"
   ]
  },
  {
   "cell_type": "code",
   "execution_count": 22,
   "metadata": {},
   "outputs": [
    {
     "data": {
      "image/png": "[encoded data removed]",
      "text/plain": [
       "<Figure size 576x432 with 1 Axes>"
      ]
     },
     "metadata": {
      "needs_background": "light"
     },
     "output_type": "display_data"
    }
   ],
   "source": [
    "# answer to question #6 (continued)\n",
    "\n",
    "plt.figure(figsize=(8, 6))\n",
    "for eta, scores in zip(eta_values, [item[2]['valid']['rmse'] for item in xgb_scores]):\n",
    "    plt.plot(scores, label=f\"eta={eta}\")\n",
    "\n",
    "plt.legend()\n",
    "plt.xlim(0, 100)\n",
    "plt.ylim(0.4, 0.5)\n",
    "plt.show()\n"
   ]
  },
  {
   "cell_type": "markdown",
   "metadata": {},
   "source": [
    "As it is clear from above plot, eventually __eta=0.1__ leads to lower (and better) RMSE values. "
   ]
  }
 ],
 "metadata": {
  "interpreter": {
   "hash": "97ae724bfa85b9b34df7982b8bb8c7216f435b92902d749e4263f71162bea840"
  },
  "kernelspec": {
   "display_name": "Python 3.7.10 64-bit ('base': conda)",
   "name": "python3"
  },
  "language_info": {
   "codemirror_mode": {
    "name": "ipython",
    "version": 3
   },
   "file_extension": ".py",
   "mimetype": "text/x-python",
   "name": "python",
   "nbconvert_exporter": "python",
   "pygments_lexer": "ipython3",
   "version": "3.7.10"
  }
 },
 "nbformat": 4,
 "nbformat_minor": 2
}
